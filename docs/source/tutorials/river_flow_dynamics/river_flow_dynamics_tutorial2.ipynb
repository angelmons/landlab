{
 "cells": [
  {
   "cell_type": "markdown",
   "metadata": {},
   "source": [
    "\n",
    "<a href=\"http://landlab.github.io\"><img style=\"float: left; width: 300px;\" src=\"https://landlab.csdms.io/_static/landlab_logo.png\"></a>"
   ]
  },
  {
   "cell_type": "markdown",
   "metadata": {},
   "source": [
    "# 2D Surface Water Flow component: Modeling water flow over complex terrain\n",
    "\n",
    "<hr>\n",
    "<small>For more Landlab tutorials, click here: <a href=\"https://landlab.readthedocs.io/en/latest/user_guide/tutorials.html\">https://landlab.readthedocs.io/en/latest/user_guide/tutorials.html</a></small>\n",
    "<hr>\n"
   ]
  },
  {
   "cell_type": "markdown",
   "metadata": {},
   "source": [
    "## Overview\n",
    "\n",
    "This notebook demonstrates the usage of the `river flow dynamics` Landlab component with a real-world digital elevation model (DEM). The component runs a semi-implicit, semi-Lagrangian finite-volume approximation to the depth-averaged 2D shallow-water equations of Casulli and Cheng (1992) and related work.\n",
    "\n",
    "### Theory\n",
    "\n",
    "The depth-averaged 2D shallow-water equations are the simplification of the Navier-Stokes equations, which correspond to the balance of momentum and mass in the fluid. It is possible to simplify these equations by assuming a well-mixed water column and a small water depth to width ratio, where a vertical integration results in depth-averaged equations. These require boundary conditions at the top and bottom of the water column, which are provided by the wind stress and the Manning-Chezy formula, respectively:\n",
    "\n",
    "$$\n",
    "\\frac{\\partial U}{\\partial t}\n",
    "+ U\\frac{\\partial U}{\\partial x} + V\\frac{\\partial U}{\\partial y}\n",
    "= \n",
    "- g\\frac{\\partial \\eta}{\\partial x}\n",
    "+ \\epsilon\\left(\\frac{\\partial^2 U}{\\partial x^2} + \\frac{\\partial^2 U}{\\partial y^2}\\right)\n",
    "+ \\frac{\\gamma_T(U_a - U)}{H} - g\\frac{\\sqrt{U^2 + V^2}}{Cz^2}U + \\mathbf{f}V\n",
    "$$\n",
    "\n",
    "$$\n",
    "\\frac{\\partial V}{\\partial t}\n",
    "+ U\\frac{\\partial V}{\\partial x} + V\\frac{\\partial V}{\\partial y}\n",
    "= \n",
    "- g\\frac{\\partial \\eta}{\\partial y}\n",
    "+ \\epsilon\\left(\\frac{\\partial^2 V}{\\partial x^2} + \\frac{\\partial^2 V}{\\partial y^2}\\right)\n",
    "+ \\frac{\\gamma_T(V_a - V)}{H} - g\\frac{\\sqrt{U^2 + V^2}}{Cz^2}V + \\mathbf{f}U\n",
    "$$\n",
    "\n",
    "$$\n",
    "\\frac{\\partial \\eta}{\\partial t}\n",
    "+ \\frac{\\partial (HU)}{\\partial x} + \\frac{\\partial (HV)}{\\partial y}\n",
    "= 0\n",
    "$$\n",
    "\n",
    "where $U$ is the water velocity in the $x$-direction, $V$ is the water velocity in the $y$-direction, $H$ is the water depth, $\\eta$ is the water surface elevation, $Cz$ is the Chezy friction coefficient, and $t$ is time. For the constants $g$ is the gravity acceleration, $\\epsilon$ is the horizontal eddy viscosity, $\\mathbf{f}$ is the Coriolis parameter, $\\gamma_T$ is the wind stress coefficient, and $U_a$ and $V_a$ are the prescribed wind velocities.\n",
    "\n",
    "### Numerical representation\n",
    "\n",
    "A semi-implicit, semi-Lagrangian, finite volume numerical approximation represents the depth averaged, 2D shallow-water equations described before. The water surface elevation, $\\eta$, is defined at the center of each computational volume (nodes). Water depth, $H$, and velocity components, $U$ and $V$, are defined at the midpoint of volume faces (links). The finite volume structure provides a control volume representation that is inherently mass conservative.\n",
    "\n",
    "The combination of a semi-implciit water surface elevation solution and a semi-Lagrangian representation of advection provides the advantages of a stable solution and of time steps that exceed the CFL criterion. In the semi-implicit process, $\\eta$ in the momentum equations, and the velocity divergence in the continuity equation, are treated implicitly. The advective terms in the momentum equations, are discretized explicitly. See the cited literature for more details.\n",
    "\n",
    "### The component\n",
    "\n",
    "Import the needed libraries:"
   ]
  },
  {
   "cell_type": "code",
   "execution_count": null,
   "metadata": {},
   "outputs": [],
   "source": [
    "import matplotlib.pyplot as plt\n",
    "import numpy as np\n",
    "from IPython.display import clear_output\n",
    "from tqdm import trange\n",
    "\n",
    "from landlab import RasterModelGrid\n",
    "from landlab.components import RiverFlowDynamics\n",
    "from landlab.io import esri_ascii\n",
    "from landlab.plot.imshow import imshow_grid"
   ]
  },
  {
   "cell_type": "markdown",
   "metadata": {},
   "source": [
    "## Information about the component\n",
    "\n",
    "Using the class name as argument for the `help` function returns descriptions of the various methods and parameters."
   ]
  },
  {
   "cell_type": "code",
   "execution_count": null,
   "metadata": {},
   "outputs": [],
   "source": [
    "help(RiverFlowDynamics)"
   ]
  },
  {
   "cell_type": "markdown",
   "metadata": {},
   "source": [
    "-- --\n",
    "## Example 2: Modeling water flow over complex terrain\n",
    "\n",
    "In this example, we will import a digital elevation model (DEM) for a side-channel of the Kootenai River, Idaho, US. We'll demonstrate how the `RiverFlowDynamics` component can simulate water flow over real-world terrain."
   ]
  },
  {
   "cell_type": "markdown",
   "metadata": {},
   "source": [
    "### Loading the Digital Elevation Model\n",
    "\n",
    "We'll load the DEM from an ASCII file and use it as our topographic elevation field."
   ]
  },
  {
   "cell_type": "code",
   "execution_count": null,
   "metadata": {},
   "outputs": [],
   "source": [
    "# Getting the grid and some parameters\n",
    "asc_file = \"DEM_kootenai_37x50_1x1.asc\"\n",
    "with open(asc_file) as fp:\n",
    "    grid = esri_ascii.load(fp, name=\"topographic__elevation\")\n",
    "te = grid.at_node[\"topographic__elevation\"]"
   ]
  },
  {
   "cell_type": "markdown",
   "metadata": {},
   "source": [
    "### Define Simulation Parameters\n",
    "\n",
    "We specify basic parameters such as Manning's roughness coefficient, time step duration, and number of time steps."
   ]
  },
  {
   "cell_type": "code",
   "execution_count": null,
   "metadata": {},
   "outputs": [],
   "source": [
    "# Basic parameters\n",
    "mannings_n = 0.012  # Manning's roughness coefficient, [s/m^(1/3)]\n",
    "\n",
    "# Simulation parameters\n",
    "n_timesteps = 75  # Number of timesteps\n",
    "dt = 1.0  # Timestep duration, [s]\n",
    "\n",
    "# Display parameters\n",
    "display_animation_freq = 5  # How often to display animation frames"
   ]
  },
  {
   "cell_type": "markdown",
   "metadata": {},
   "source": [
    "### Visualize Initial Topography\n",
    "\n",
    "Let's examine the topography to get a better understanding of the terrain we're working with."
   ]
  },
  {
   "cell_type": "code",
   "execution_count": null,
   "metadata": {},
   "outputs": [],
   "source": [
    "# Showing the topography with enhanced visualization\n",
    "plt.figure(figsize=(12, 8))\n",
    "im = imshow_grid(grid, \"topographic__elevation\", cmap=\"terrain\")\n",
    "plt.colorbar(im, label=\"Elevation (m)\")\n",
    "plt.title(\"Kootenai River Side-Channel Topography\", fontsize=14)\n",
    "plt.show()"
   ]
  },
  {
   "cell_type": "markdown",
   "metadata": {},
   "source": [
    "### Set Initial Conditions\n",
    "\n",
    "Our side-channel is empty at the beginning of the simulation, so we create the fields for water depth, velocity, and water surface elevation."
   ]
  },
  {
   "cell_type": "code",
   "execution_count": null,
   "metadata": {},
   "outputs": [],
   "source": [
    "# We establish the initial conditions, which represent an empty channel\n",
    "h = grid.add_zeros(\"surface_water__depth\", at=\"node\")\n",
    "\n",
    "# Water velocity is zero in everywhere since there is no water yet\n",
    "vel = grid.add_zeros(\"surface_water__velocity\", at=\"link\")\n",
    "\n",
    "# Calculating the initial water surface elevation from water depth and topographic elevation\n",
    "wse = grid.add_field(\"surface_water__elevation\", te, at=\"node\")"
   ]
  },
  {
   "cell_type": "markdown",
   "metadata": {},
   "source": [
    "### Set Boundary Conditions\n",
    "\n",
    "We specify the nodes and links where water enters the domain, along with the water depth and velocity values at these entry points. In this case, water will flow from right to left."
   ]
  },
  {
   "cell_type": "code",
   "execution_count": null,
   "metadata": {},
   "outputs": [],
   "source": [
    "# We set fixed boundary conditions, specifying the nodes and links in which the water is flowing into the grid\n",
    "fixed_entry_nodes = grid.nodes_at_right_edge\n",
    "fixed_entry_links = grid.links_at_node[fixed_entry_nodes][:, 2]\n",
    "\n",
    "# We set the fixed values in the entry nodes/links\n",
    "entry_nodes_h_values = np.array(\n",
    "    [\n",
    "        0.0,\n",
    "        0.0,\n",
    "        0.0,\n",
    "        0.0,\n",
    "        0.0,\n",
    "        0.0,\n",
    "        0.0,\n",
    "        0.0,\n",
    "        0.0,\n",
    "        0.0,\n",
    "        0.0,\n",
    "        0.0,\n",
    "        0.04998779,\n",
    "        0.05999756,\n",
    "        0.03997803,\n",
    "        0.0,\n",
    "        0.0,\n",
    "        0.0,\n",
    "        0.05999756,\n",
    "        0.10998535,\n",
    "        0.12994385,\n",
    "        0.09997559,\n",
    "        0.15997314,\n",
    "        0.23999023,\n",
    "        0.30999756,\n",
    "        0.36999512,\n",
    "        0.45996094,\n",
    "        0.50994873,\n",
    "        0.54998779,\n",
    "        0.59997559,\n",
    "        0.63995361,\n",
    "        0.65997314,\n",
    "        0.65997314,\n",
    "        0.60998535,\n",
    "        0.5,\n",
    "        0.13995361,\n",
    "        0.0,\n",
    "    ]\n",
    ")\n",
    "entry_links_vel_values = np.array(\n",
    "    [\n",
    "        0.0,\n",
    "        0.0,\n",
    "        0.0,\n",
    "        0.0,\n",
    "        0.0,\n",
    "        0.0,\n",
    "        0.0,\n",
    "        0.0,\n",
    "        0.0,\n",
    "        0.0,\n",
    "        0.0,\n",
    "        0.0,\n",
    "        -2.58638018,\n",
    "        -2.58638018,\n",
    "        -2.58638018,\n",
    "        0.0,\n",
    "        0.0,\n",
    "        0.0,\n",
    "        -2.58638018,\n",
    "        -2.58638018,\n",
    "        -2.58638018,\n",
    "        -2.58638018,\n",
    "        -2.58638018,\n",
    "        -2.58638018,\n",
    "        -2.58638018,\n",
    "        -2.58638018,\n",
    "        -2.58638018,\n",
    "        -2.58638018,\n",
    "        -2.58638018,\n",
    "        -2.58638018,\n",
    "        -2.58638018,\n",
    "        -2.58638018,\n",
    "        -2.58638018,\n",
    "        -2.58638018,\n",
    "        -2.58638018,\n",
    "        -2.58638018,\n",
    "        0.0,\n",
    "    ]\n",
    ")"
   ]
  },
  {
   "cell_type": "markdown",
   "metadata": {},
   "source": [
    "### Visualize Entry Cross-section\n",
    "\n",
    "Let's plot the entry boundary condition in the cross-section with enhanced visualization to better understand the water inflow."
   ]
  },
  {
   "cell_type": "code",
   "execution_count": null,
   "metadata": {},
   "outputs": [],
   "source": [
    "plt.figure(figsize=(12, 8))\n",
    "plt.plot(\n",
    "    grid.y_of_node[fixed_entry_nodes], \n",
    "    entry_nodes_h_values + te[fixed_entry_nodes],\n",
    "    'b-', linewidth=2, label=\"Water Surface\"\n",
    ")\n",
    "plt.plot(\n",
    "    grid.y_of_node[grid.nodes_at_right_edge], \n",
    "    te[grid.nodes_at_right_edge],\n",
    "    'brown', linewidth=2, label=\"Channel Bottom\"\n",
    ")\n",
    "plt.fill_between(\n",
    "    grid.y_of_node[fixed_entry_nodes],\n",
    "    te[fixed_entry_nodes],\n",
    "    entry_nodes_h_values + te[fixed_entry_nodes],\n",
    "    color='blue', alpha=0.3\n",
    ")\n",
    "plt.title(\"Entry Cross-section at Right Boundary\", fontsize=14)\n",
    "plt.xlabel(\"Distance along cross-section [m]\", fontsize=12)\n",
    "plt.ylabel(\"Elevation [m]\", fontsize=12)\n",
    "plt.grid(True)\n",
    "plt.legend()\n",
    "plt.show()"
   ]
  },
  {
   "cell_type": "markdown",
   "metadata": {},
   "source": [
    "### Initialize the RiverFlowDynamics Component\n",
    "\n",
    "Now we create the component by passing the arguments defined previously."
   ]
  },
  {
   "cell_type": "code",
   "execution_count": null,
   "metadata": {},
   "outputs": [],
   "source": [
    "# Initialize the model with our parameters and boundary conditions\n",
    "rfd = RiverFlowDynamics(\n",
    "    grid,\n",
    "    dt=dt,\n",
    "    mannings_n=mannings_n,\n",
    "    fixed_entry_nodes=fixed_entry_nodes,\n",
    "    fixed_entry_links=fixed_entry_links,\n",
    "    entry_nodes_h_values=entry_nodes_h_values,\n",
    "    entry_links_vel_values=entry_links_vel_values,\n",
    ")"
   ]
  },
  {
   "cell_type": "markdown",
   "metadata": {},
   "source": [
    "### Run the Simulation\n",
    "\n",
    "We run the simulation for 75 time steps (75 seconds) with improved visualization of the water propagation through the channel."
   ]
  },
  {
   "cell_type": "code",
   "execution_count": null,
   "metadata": {},
   "outputs": [],
   "source": [
    "for timestep in trange(n_timesteps):\n",
    "    rfd.run_one_step()\n",
    "\n",
    "    if timestep % display_animation_freq == 0:\n",
    "        clear_output(wait=True)  # Clear the previous image\n",
    "        plt.figure(figsize=(12, 8))\n",
    "        im = imshow_grid(grid, \"surface_water__depth\", cmap=\"Blues\")\n",
    "        plt.colorbar(im, label=\"Water Depth (m)\")\n",
    "        plt.title(f\"Water Depth at Time Step {timestep+1} (Time: {(timestep+1)*dt}s)\")\n",
    "        plt.show()"
   ]
  },
  {
   "cell_type": "markdown",
   "metadata": {},
   "source": [
    "### Visualize Final Results\n",
    "\n",
    "Let's examine the water depth and water surface elevation at the end of the simulation with enhanced visualization."
   ]
  },
  {
   "cell_type": "code",
   "execution_count": null,
   "metadata": {},
   "outputs": [],
   "source": [
    "# Final water depth\n",
    "plt.figure(figsize=(12, 8))\n",
    "im = imshow_grid(grid, \"surface_water__depth\", cmap=\"Blues\")\n",
    "plt.colorbar(im, label=\"Water Depth (m)\")\n",
    "plt.title(f\"Final Water Depth after {n_timesteps} Time Steps ({n_timesteps*dt}s)\")\n",
    "plt.show()"
   ]
  },
  {
   "cell_type": "code",
   "execution_count": null,
   "metadata": {},
   "outputs": [],
   "source": [
    "# Final water surface elevation\n",
    "plt.figure(figsize=(12, 8))\n",
    "im = imshow_grid(grid, \"surface_water__elevation\", cmap=\"terrain\")\n",
    "plt.colorbar(im, label=\"Water Surface Elevation (m)\")\n",
    "plt.title(f\"Final Water Surface Elevation after {n_timesteps} Time Steps ({n_timesteps*dt}s)\")\n",
    "plt.show()"
   ]
  },
  {
   "cell_type": "markdown",
   "metadata": {},
   "source": [
    "### Visualize Flow Velocity Magnitude\n",
    "\n",
    "Let's calculate and visualize the flow velocity magnitude across the domain to better understand the flow dynamics."
   ]
  },
  {
   "cell_type": "code",
   "execution_count": null,
   "metadata": {},
   "outputs": [],
   "source": [
    "# Extract velocity components\n",
    "links_at_node = grid.links_at_node\n",
    "velocity_at_links = grid.at_link[\"surface_water__velocity\"]\n",
    "\n",
    "# Calculate velocity magnitude at nodes (approximate)\n",
    "velocity_magnitude = np.zeros(grid.number_of_nodes)\n",
    "for i in range(grid.number_of_nodes):\n",
    "    # Get valid links (those that are not -1)\n",
    "    valid_links = links_at_node[i][links_at_node[i] >= 0]\n",
    "    if len(valid_links) > 0:\n",
    "        # Take the maximum velocity of connected links as an approximation\n",
    "        velocity_magnitude[i] = np.max(np.abs(velocity_at_links[valid_links]))\n",
    "\n",
    "# Add velocity magnitude field to grid\n",
    "grid.at_node[\"velocity_magnitude\"] = velocity_magnitude\n",
    "\n",
    "# Plot velocity magnitude\n",
    "plt.figure(figsize=(12, 8))\n",
    "im = imshow_grid(grid, \"velocity_magnitude\", cmap=\"plasma\")\n",
    "plt.colorbar(im, label=\"Velocity Magnitude (m/s)\")\n",
    "plt.title(f\"Flow Velocity Magnitude after {n_timesteps} Time Steps\")\n",
    "plt.show()"
   ]
  },
  {
   "cell_type": "markdown",
   "metadata": {},
   "source": [
    "### Analyze Cross-sections\n",
    "\n",
    "Let's examine the water depth and flow along cross-sections of the domain to better understand the simulation results."
   ]
  },
  {
   "cell_type": "code",
   "execution_count": null,
   "metadata": {},
   "outputs": [],
   "source": [
    "# Find the middle of the domain for cross-sections\n",
    "mid_row = grid.shape[0] // 2\n",
    "mid_col = grid.shape[1] // 2\n",
    "\n",
    "# Extract cross-section through the middle row (longitudinal profile)\n",
    "row_nodes = np.arange(mid_row * grid.shape[1], (mid_row + 1) * grid.shape[1], dtype=int)\n",
    "\n",
    "# Plot longitudinal cross-section\n",
    "plt.figure(figsize=(14, 6))\n",
    "\n",
    "# Plot terrain\n",
    "plt.plot(grid.x_of_node[row_nodes], grid.at_node['topographic__elevation'][row_nodes], \n",
    "         'k-', linewidth=2, label='Terrain')\n",
    "\n",
    "# Plot water surface\n",
    "plt.plot(grid.x_of_node[row_nodes], grid.at_node['surface_water__elevation'][row_nodes], \n",
    "         'b-', linewidth=2, label='Water Surface')\n",
    "\n",
    "# Fill between terrain and water surface where there's water\n",
    "water_indices = grid.at_node['surface_water__depth'][row_nodes] > 0\n",
    "plt.fill_between(grid.x_of_node[row_nodes][water_indices], \n",
    "                 grid.at_node['topographic__elevation'][row_nodes][water_indices],\n",
    "                 grid.at_node['surface_water__elevation'][row_nodes][water_indices],\n",
    "                 color='blue', alpha=0.3)\n",
    "\n",
    "plt.grid(True)\n",
    "plt.xlabel('Distance Along Channel (m)', fontsize=12)\n",
    "plt.ylabel('Elevation (m)', fontsize=12)\n",
    "plt.title('Longitudinal Profile (East-West) through Domain Center', fontsize=14)\n",
    "plt.legend()\n",
    "plt.show()"
   ]
  },
  {
   "cell_type": "markdown",
   "metadata": {},
   "source": [
    "## Interpretation of Results\n",
    "\n",
    "The simulation results demonstrate how the `RiverFlowDynamics` component can effectively model water flow over real-world topography. Key observations from this simulation include:\n",
    "\n",
    "1. **Channel-following flow**: The water naturally follows the lowest elevations in the DEM, demonstrating how topography controls flow paths in natural systems.\n",
    "\n",
    "2. **Flow acceleration and deceleration**: The velocity magnitude visualization shows how water accelerates in steep, narrow sections and slows down in flatter, wider areas, reflecting real-world fluid dynamics.\n",
    "\n",
    "3. **Depth variation**: Water depth varies across the channel, with deeper sections in topographic lows and shallower flow over higher terrain, creating a realistic representation of natural channel hydraulics.\n",
    "\n",
    "4. **Flow evolution**: The animation shows the progressive filling of the channel over time, starting from the inflow boundary and gradually propagating downstream as would occur in nature.\n",
    "\n",
    "This simulation provides valuable insights into how water interacts with natural terrain and demonstrates the capability of the `RiverFlowDynamics` component to model complex hydrodynamic processes over real-world topography.\n",
    "\n",
    "-- --\n",
    "### And that's it! \n",
    "\n",
    "Nice work completing this tutorial. You know now how to use the `RiverFlowDynamics` Landlab component to simulate water flow over real-world DEMs :)\n",
    "\n",
    "-- --\n",
    "\n"
   ]
  },
  {
   "cell_type": "markdown",
   "metadata": {},
   "source": [
    "### Click here for more <a href=\"https://landlab.csdms.io/tutorials/\">Landlab tutorials</a>"
   ]
  }
 ],
 "metadata": {
  "kernelspec": {
   "display_name": "Python 3 (ipykernel)",
   "language": "python",
   "name": "python3"
  },
  "language_info": {
   "codemirror_mode": {
    "name": "ipython",
    "version": 3
   },
   "file_extension": ".py",
   "mimetype": "text/x-python",
   "name": "python",
   "nbconvert_exporter": "python",
   "pygments_lexer": "ipython3",
   "version": "3.12.5"
  }
 },
 "nbformat": 4,
 "nbformat_minor": 4
}
