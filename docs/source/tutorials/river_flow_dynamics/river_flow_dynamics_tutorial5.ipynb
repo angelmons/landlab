{
 "cells": [
  {
   "cell_type": "markdown",
   "metadata": {},
   "source": [
    "\n",
    "<a href=\"http://landlab.github.io\"><img style=\"float: left; width: 300px;\" src=\"https://landlab.csdms.io/_static/landlab_logo.png\"></a>"
   ]
  },
  {
   "cell_type": "markdown",
   "metadata": {},
   "source": [
    "# 2D Surface Water Flow Component: Green River Case Study\n",
    "\n",
    "<hr>\n",
    "<small>For more Landlab tutorials, click here: <a href=\"https://landlab.readthedocs.io/en/latest/user_guide/tutorials.html\">https://landlab.readthedocs.io/en/latest/user_guide/tutorials.html</a></small>\n",
    "<hr>"
   ]
  },
  {
   "cell_type": "markdown",
   "metadata": {},
   "source": [
    "## Overview\n",
    "\n",
    "This notebook demonstrates the usage of the `RiverFlowDynamics` Landlab component to simulate surface water flow over real terrain. Unlike theoretical examples with idealized topography, this example uses an actual digital elevation model (DEM) of a specific reach of the Green River in Utah, USA."
   ]
  },
  {
   "cell_type": "code",
   "execution_count": null,
   "metadata": {},
   "outputs": [],
   "source": [
    "import matplotlib.pyplot as plt\n",
    "import numpy as np\n",
    "from IPython.display import clear_output\n",
    "from tqdm import trange\n",
    "from landlab import RasterModelGrid\n",
    "from landlab.components import RiverFlowDynamics\n",
    "from landlab.io import esri_ascii\n",
    "from landlab.plot.imshow import imshow_grid"
   ]
  },
  {
   "cell_type": "markdown",
   "metadata": {},
   "source": [
    "## Loading the Digital Elevation Model\n",
    "\n",
    "We'll load the DEM of the Green River reach from an ASCII file. This file contains elevation data in a grid format that Landlab can process."
   ]
  },
  {
   "cell_type": "code",
   "execution_count": null,
   "metadata": {},
   "outputs": [],
   "source": [
    "# Getting DEM parameters - Select one of the following DEM\n",
    "#asc_file = \"DEM_GreenRiver_100x98_20x20.asc\" # 20 by 20 meters resolution DEM\n",
    "asc_file = \"DEM_GreenRiver_80x78_25x25.asc\" # 25 by 25 meters resolution DEM\n",
    "\n",
    "# Read the DEM file\n",
    "with open(asc_file) as f:\n",
    "    grid = esri_ascii.load(f, name=\"topographic__elevation\")\n",
    "\n",
    "# Get the topographic elevation field\n",
    "teDEM = grid.at_node[\"topographic__elevation\"]"
   ]
  },
  {
   "cell_type": "markdown",
   "metadata": {},
   "source": [
    "## Define Simulation Parameters\n",
    "\n",
    "We'll specify basic parameters such as Manning's roughness coefficient, time step duration, and the number of time steps for our simulation."
   ]
  },
  {
   "cell_type": "code",
   "execution_count": null,
   "metadata": {},
   "outputs": [],
   "source": [
    "# Basic parameters\n",
    "n = 0.034  # Manning's roughness coefficient, [s/m^(1/3)]\n",
    "\n",
    "# Simulation parameters\n",
    "n_timesteps = 400  # Number of timesteps\n",
    "dt = 1.0  # Timestep duration, [s]\n",
    "\n",
    "# Display parameters\n",
    "display_animation_freq = 5  # How often to display animation frames"
   ]
  },
  {
   "cell_type": "markdown",
   "metadata": {},
   "source": [
    "## Set Up Topography\n",
    "\n",
    "The DEM may contain no-data values (typically -9999), which we need to replace with reasonable values. We'll replace these with an elevation of 700m."
   ]
  },
  {
   "cell_type": "code",
   "execution_count": null,
   "metadata": {},
   "outputs": [],
   "source": [
    "# The DEM is already loaded, so just replace -9999 (no-data values) with 700\n",
    "teDEM = grid.at_node[\"topographic__elevation\"]  # Access the existing field\n",
    "grid.at_node[\"topographic__elevation\"] = np.where(teDEM == -9999, 700, teDEM)  # Update it"
   ]
  },
  {
   "cell_type": "markdown",
   "metadata": {},
   "source": [
    "### Visualize Initial Topography\n",
    "\n",
    "Let's visualize the topography to get a better understanding of the terrain we're working with."
   ]
  },
  {
   "cell_type": "code",
   "execution_count": null,
   "metadata": {},
   "outputs": [],
   "source": [
    "# Showing the topography\n",
    "plt.figure(figsize=(12, 10))\n",
    "im = imshow_grid(grid, \"topographic__elevation\", cmap=\"terrain\")\n",
    "plt.colorbar(im, label=\"Elevation (m)\")\n",
    "plt.title(\"Green River Topography\")\n",
    "plt.show()"
   ]
  },
  {
   "cell_type": "markdown",
   "metadata": {},
   "source": [
    "## Set Initial Conditions\n",
    "\n",
    "To begin our simulation with an empty channel, we need to create three essential fields:\n",
    "1. Water depth: Initially set to zero at all nodes\n",
    "2. Water velocity: Initially set to zero at all links\n",
    "3. Water surface elevation: Calculated as the sum of topographic elevation and water depth (initially equal to just the topography)"
   ]
  },
  {
   "cell_type": "code",
   "execution_count": null,
   "metadata": {},
   "outputs": [],
   "source": [
    "# We establish the initial conditions, which represent an empty channel\n",
    "h = grid.add_zeros(\"surface_water__depth\", at=\"node\")\n",
    "\n",
    "# Water velocity is zero in everywhere since there is no water yet\n",
    "vel = grid.add_zeros(\"surface_water__velocity\", at=\"link\")\n",
    "\n",
    "# Calculating the initial water surface elevation from water depth and topographic elevation\n",
    "wse = grid.add_zeros(\"surface_water__elevation\", at=\"node\")\n",
    "wse += h + grid.at_node[\"topographic__elevation\"]  # Use the existing field directly"
   ]
  },
  {
   "cell_type": "markdown",
   "metadata": {},
   "source": [
    "## Set Boundary Conditions\n",
    "\n",
    "We need to specify where water enters the domain. For this simulation, water will flow from right to left, so we'll set the nodes at the right edge as our entry points."
   ]
  },
  {
   "cell_type": "code",
   "execution_count": null,
   "metadata": {},
   "outputs": [],
   "source": [
    "# We set fixed boundary conditions, specifying the nodes and links in which the water is flowing into the grid\n",
    "fixed_entry_nodes = grid.nodes_at_right_edge\n",
    "fixed_entry_links = grid.links_at_node[fixed_entry_nodes][:, 2]"
   ]
  },
  {
   "cell_type": "markdown",
   "metadata": {},
   "source": [
    "### Define Entry Flow Conditions\n",
    "\n",
    "Now we need to set the water depth and velocity at the entry points. We'll simulate an average discharge of 247 m³/s with a water depth of approximately 5.46 m in the deepest part of the channel (thalweg)."
   ]
  },
  {
   "cell_type": "code",
   "execution_count": null,
   "metadata": {},
   "outputs": [],
   "source": [
    "# We set the fixed values in the entry nodes/links\n",
    "# (Average discharge 247 m3/s and water depth of 5.4559 m in the thalweg)\n",
    "thalweg = grid.at_node[\"topographic__elevation\"][fixed_entry_nodes].min()\n",
    "WSE = thalweg + 5.4559  # Water surface elevation\n",
    "\n",
    "# Calculate water depth at each entry node\n",
    "entry_nodes_h_values = WSE - grid.at_node[\"topographic__elevation\"][fixed_entry_nodes]\n",
    "entry_nodes_h_values = np.where(entry_nodes_h_values < 0, 0, entry_nodes_h_values)\n",
    "\n",
    "# Calculate water velocity at entry links\n",
    "tempB1 = (entry_nodes_h_values > 0)\n",
    "tempCalc1 = np.where(tempB1 == True, entry_nodes_h_values, 1)\n",
    "entry_links_vel_values = np.where(tempB1 == True, (247/(grid.dx*np.sum(tempB1)))*(1/tempCalc1), 0)"
   ]
  },
  {
   "cell_type": "markdown",
   "metadata": {},
   "source": [
    "### Visualize Entry Cross-section\n",
    "\n",
    "Let's plot the entry cross-section to visualize the water depth and terrain at the point where water enters the domain."
   ]
  },
  {
   "cell_type": "code",
   "execution_count": null,
   "metadata": {},
   "outputs": [],
   "source": [
    "plt.figure(figsize=(12, 8))\n",
    "plt.plot(\n",
    "    grid.y_of_node[fixed_entry_nodes], \n",
    "    entry_nodes_h_values + grid.at_node[\"topographic__elevation\"][fixed_entry_nodes],\n",
    "    'b-', linewidth=2, label=\"Water Surface\"\n",
    ")\n",
    "plt.plot(\n",
    "    grid.y_of_node[grid.nodes_at_right_edge], \n",
    "    grid.at_node[\"topographic__elevation\"][grid.nodes_at_right_edge],\n",
    "    'k-', linewidth=2, label=\"Terrain\"\n",
    ")\n",
    "plt.fill_between(\n",
    "    grid.y_of_node[fixed_entry_nodes],\n",
    "    grid.at_node[\"topographic__elevation\"][fixed_entry_nodes],\n",
    "    entry_nodes_h_values + grid.at_node[\"topographic__elevation\"][fixed_entry_nodes],\n",
    "    color='blue', alpha=0.3\n",
    ")\n",
    "plt.title(\"Entry Cross-section of Green River\", fontsize=14)\n",
    "plt.xlabel(\"Distance Along Cross-section [m]\", fontsize=12)\n",
    "plt.ylabel(\"Elevation [m]\", fontsize=12)\n",
    "plt.legend()\n",
    "plt.grid(True)\n",
    "plt.show()"
   ]
  },
  {
   "cell_type": "markdown",
   "metadata": {},
   "source": [
    "## Initialize the RiverFlowDynamics Component\n",
    "\n",
    "Now we'll create the `RiverFlowDynamics` component with our parameters and boundary conditions."
   ]
  },
  {
   "cell_type": "code",
   "execution_count": null,
   "metadata": {},
   "outputs": [],
   "source": [
    "# Initialize the model with our parameters and boundary conditions\n",
    "rfd = RiverFlowDynamics(\n",
    "    grid,\n",
    "    dt=dt,\n",
    "    mannings_n=n,\n",
    "    fixed_entry_nodes=fixed_entry_nodes,\n",
    "    fixed_entry_links=fixed_entry_links,\n",
    "    entry_nodes_h_values=entry_nodes_h_values,\n",
    "    entry_links_vel_values=entry_links_vel_values,\n",
    ")"
   ]
  },
  {
   "cell_type": "markdown",
   "metadata": {},
   "source": [
    "## Run the Simulation\n",
    "\n",
    "Now we'll run the model for the specified number of time steps, visualizing the water depth at regular intervals to see how the river fills the channel."
   ]
  },
  {
   "cell_type": "code",
   "execution_count": null,
   "metadata": {},
   "outputs": [],
   "source": [
    "# Setting up the figure for animation\n",
    "plt.figure(figsize=(12, 10))\n",
    "\n",
    "for timestep in range(n_timesteps):\n",
    "    rfd.run_one_step()\n",
    "    \n",
    "    if timestep % display_animation_freq == 0:\n",
    "        clear_output(wait=True)  # Clear the previous image\n",
    "        plt.figure(figsize=(12, 10))\n",
    "        im = imshow_grid(grid, \"surface_water__depth\", cmap=\"Blues\")\n",
    "        plt.colorbar(im, label=\"Water Depth (m)\")\n",
    "        plt.title(f\"Water Depth at Time Step {timestep+1} (Time: {(timestep+1)*dt}s)\")\n",
    "        plt.show()"
   ]
  },
  {
   "cell_type": "markdown",
   "metadata": {},
   "source": [
    "## Visualize Final Results\n",
    "\n",
    "Let's examine the water depth and water surface elevation at the end of the simulation."
   ]
  },
  {
   "cell_type": "code",
   "execution_count": null,
   "metadata": {},
   "outputs": [],
   "source": [
    "# Final water depth\n",
    "plt.figure(figsize=(12, 10))\n",
    "im = imshow_grid(grid, \"surface_water__depth\", cmap=\"Blues\")\n",
    "plt.colorbar(im, label=\"Water Depth (m)\")\n",
    "plt.title(f\"Final Water Depth after {n_timesteps} Time Steps ({n_timesteps*dt}s)\")\n",
    "plt.show()"
   ]
  },
  {
   "cell_type": "code",
   "execution_count": null,
   "metadata": {},
   "outputs": [],
   "source": [
    "# Final water surface elevation\n",
    "plt.figure(figsize=(12, 10))\n",
    "im = imshow_grid(grid, \"surface_water__elevation\", cmap=\"terrain\")\n",
    "plt.colorbar(im, label=\"Water Surface Elevation (m)\")\n",
    "plt.title(f\"Final Water Surface Elevation after {n_timesteps} Time Steps ({n_timesteps*dt}s)\")\n",
    "plt.show()"
   ]
  },
  {
   "cell_type": "markdown",
   "metadata": {},
   "source": [
    "## Visualize Flow Velocity Magnitude\n",
    "\n",
    "Let's calculate and visualize the flow velocity magnitude across the domain."
   ]
  },
  {
   "cell_type": "code",
   "execution_count": null,
   "metadata": {},
   "outputs": [],
   "source": [
    "# Extract velocity components\n",
    "links_at_node = grid.links_at_node\n",
    "velocity_at_links = grid.at_link[\"surface_water__velocity\"]\n",
    "\n",
    "# Calculate velocity magnitude at nodes (approximate)\n",
    "velocity_magnitude = np.zeros(grid.number_of_nodes)\n",
    "for i in range(grid.number_of_nodes):\n",
    "    # Get valid links (those that are not -1)\n",
    "    valid_links = links_at_node[i][links_at_node[i] >= 0]\n",
    "    if len(valid_links) > 0:\n",
    "        # Take the maximum velocity of connected links as an approximation\n",
    "        velocity_magnitude[i] = np.max(np.abs(velocity_at_links[valid_links]))\n",
    "\n",
    "# Add velocity magnitude field to grid\n",
    "grid.at_node[\"velocity_magnitude\"] = velocity_magnitude\n",
    "\n",
    "# Plot velocity magnitude\n",
    "plt.figure(figsize=(12, 10))\n",
    "im = imshow_grid(grid, \"velocity_magnitude\", cmap=\"plasma\")\n",
    "plt.colorbar(im, label=\"Velocity Magnitude (m/s)\")\n",
    "plt.title(f\"Flow Velocity Magnitude after {n_timesteps} Time Steps\")\n",
    "plt.show()"
   ]
  },
  {
   "cell_type": "markdown",
   "metadata": {},
   "source": [
    "## Analyze Cross-sections\n",
    "\n",
    "Let's examine the water depth and flow along cross-sections of the domain to better understand the simulation results."
   ]
  },
  {
   "cell_type": "code",
   "execution_count": null,
   "metadata": {},
   "outputs": [],
   "source": [
    "# Find the middle of the domain for cross-sections\n",
    "mid_row = grid.shape[0] // 2\n",
    "mid_col = grid.shape[1] // 2\n",
    "\n",
    "# Extract cross-section through the middle row\n",
    "row_nodes = np.arange(mid_row * grid.shape[1], (mid_row + 1) * grid.shape[1], dtype=int)\n",
    "\n",
    "# Extract cross-section through the middle column\n",
    "col_nodes = np.array([mid_col + i * grid.shape[1] for i in range(grid.shape[0])], dtype=int)\n",
    "\n",
    "# Plot horizontal cross-section\n",
    "plt.figure(figsize=(14, 6))\n",
    "\n",
    "# Plot terrain\n",
    "plt.plot(grid.x_of_node[row_nodes], grid.at_node['topographic__elevation'][row_nodes], \n",
    "         'k-', linewidth=2, label='Terrain')\n",
    "\n",
    "# Plot water surface\n",
    "plt.plot(grid.x_of_node[row_nodes], grid.at_node['surface_water__elevation'][row_nodes], \n",
    "         'b-', linewidth=2, label='Water Surface')\n",
    "\n",
    "# Fill between terrain and water surface where there's water\n",
    "water_indices = grid.at_node['surface_water__depth'][row_nodes] > 0\n",
    "plt.fill_between(grid.x_of_node[row_nodes][water_indices], \n",
    "                 grid.at_node['topographic__elevation'][row_nodes][water_indices],\n",
    "                 grid.at_node['surface_water__elevation'][row_nodes][water_indices],\n",
    "                 color='blue', alpha=0.3)\n",
    "\n",
    "plt.grid(True)\n",
    "plt.xlabel('Distance Along Cross-section (m)', fontsize=12)\n",
    "plt.ylabel('Elevation (m)', fontsize=12)\n",
    "plt.title('Longitudinal Cross-Section (East-West) through Domain Center', fontsize=14)\n",
    "plt.legend()\n",
    "plt.show()\n",
    "\n",
    "# Plot vertical cross-section \n",
    "plt.figure(figsize=(14, 6))\n",
    "\n",
    "# Plot terrain\n",
    "plt.plot(grid.y_of_node[col_nodes], grid.at_node['topographic__elevation'][col_nodes], \n",
    "         'k-', linewidth=2, label='Terrain')\n",
    "\n",
    "# Plot water surface\n",
    "plt.plot(grid.y_of_node[col_nodes], grid.at_node['surface_water__elevation'][col_nodes], \n",
    "         'b-', linewidth=2, label='Water Surface')\n",
    "\n",
    "# Fill between terrain and water surface where there's water\n",
    "water_indices = grid.at_node['surface_water__depth'][col_nodes] > 0\n",
    "plt.fill_between(grid.y_of_node[col_nodes][water_indices], \n",
    "                 grid.at_node['topographic__elevation'][col_nodes][water_indices],\n",
    "                 grid.at_node['surface_water__elevation'][col_nodes][water_indices],\n",
    "                 color='blue', alpha=0.3)\n",
    "\n",
    "plt.grid(True)\n",
    "plt.xlabel('Distance Along Cross-section (m)', fontsize=12)\n",
    "plt.ylabel('Elevation (m)', fontsize=12)\n",
    "plt.title('Transverse Cross-Section (North-South) through Domain Center', fontsize=14)\n",
    "plt.legend()\n",
    "plt.show()"
   ]
  },
  {
   "cell_type": "markdown",
   "metadata": {},
   "source": [
    "## Calculate Discharge at Different Cross-sections\n",
    "\n",
    "Let's calculate the discharge at several cross-sections along the river to see how it changes throughout the reach."
   ]
  },
  {
   "cell_type": "code",
   "execution_count": null,
   "metadata": {},
   "outputs": [],
   "source": [
    "# Define cross-section positions (as percentages of domain length from right edge)\n",
    "cross_section_positions = [0.1, 0.3, 0.5, 0.7, 0.9]  # 10%, 30%, 50%, 70%, 90%\n",
    "discharge_values = []\n",
    "\n",
    "for pos in cross_section_positions:\n",
    "    # Calculate column index\n",
    "    col_idx = int((1 - pos) * (grid.shape[1] - 1))\n",
    "    \n",
    "    # Get nodes along this column\n",
    "    col_nodes = np.array([col_idx + i * grid.shape[1] for i in range(grid.shape[0])], dtype=int)\n",
    "    \n",
    "    # Calculate discharge (sum of depth * velocity * cell width for all nodes in the cross-section)\n",
    "    discharge = 0\n",
    "    for node in col_nodes:\n",
    "        # Get the horizontal (west-east) links connected to this node\n",
    "        links = grid.links_at_node[node]\n",
    "        east_link = links[1]  # Index 1 corresponds to the eastern link\n",
    "        \n",
    "        if east_link >= 0:  # Check if link exists\n",
    "            depth = grid.at_node['surface_water__depth'][node]\n",
    "            velocity = grid.at_link['surface_water__velocity'][east_link]\n",
    "            discharge += depth * velocity * grid.dy\n",
    "    \n",
    "    discharge_values.append(abs(discharge))  # Take absolute value for consistent sign\n",
    "\n",
    "# Plot discharge along the river\n",
    "plt.figure(figsize=(10, 6))\n",
    "plt.plot(np.array(cross_section_positions) * 100, discharge_values, 'bo-', linewidth=2, markersize=8)\n",
    "plt.grid(True)\n",
    "plt.xlabel('Position Along River (% from upstream)', fontsize=12)\n",
    "plt.ylabel('Discharge (m³/s)', fontsize=12)\n",
    "plt.title('Discharge at Different Cross-sections', fontsize=14)\n",
    "plt.show()"
   ]
  },
  {
   "cell_type": "markdown",
   "metadata": {},
   "source": [
    "## Physics of River Flow in Natural Channels\n",
    "\n",
    "This simulation demonstrates several key physical processes that govern the flow of water in natural river channels:\n",
    "\n",
    "1. **Channel Hydraulics**: The flow is controlled by the balance between gravity (driving force) and friction (resistive force). Water accelerates in steeper sections and slows down in flatter areas.\n",
    "\n",
    "2. **Channel Morphology Effects**: The irregular shape of natural channels creates complex flow patterns with varying depths and velocities. Deeper sections typically have higher velocities, while shallow areas may experience slower flow.\n",
    "\n",
    "3. **Conservation Principles**: Throughout the simulation, mass (water volume) and momentum are conserved, ensuring physical realism.\n",
    "\n",
    "4. **Boundary Interactions**: The simulation captures how water interacts with channel boundaries, including bank effects and flow acceleration in constricted reaches.\n",
    "\n",
    "In real rivers, additional factors like sediment transport, vegetation effects, and temporal variations in discharge would further influence the flow dynamics. The `RiverFlowDynamics` component provides a solid foundation for understanding these complex interactions."
   ]
  },
  {
   "cell_type": "markdown",
   "metadata": {},
   "source": [
    "## Conclusion\n",
    "\n",
    "In this tutorial, we've demonstrated how to use the `RiverFlowDynamics` component in Landlab to simulate surface water flow over real terrain. We've seen how water fills a natural river channel, creating complex flow patterns influenced by topography.\n",
    "\n",
    "Some key insights from this simulation:\n",
    "\n",
    "1. **Realistic Flow Patterns**: The simulation captures the natural tendency of water to follow the path of least resistance, with higher depths in depressions and faster velocities in constricted areas.\n",
    "\n",
    "2. **Inflow-Outflow Balance**: Over time, the flow through the domain stabilizes as inflow matches outflow, reaching a steady-state condition that reflects the real-world behavior of the river.\n",
    "\n",
    "3. **Topographic Control**: The pre-existing terrain exerts strong control on the flow patterns, demonstrating how river morphology is fundamentally shaped by underlying topography.\n",
    "\n",
    "4. **Manning's Roughness Effects**: The choice of Manning's coefficient (n = 0.012) represents a relatively smooth channel, appropriate for a major river like the Green River. Different coefficients would result in different flow patterns and water depths.\n",
    "\n",
    "Potential extensions to this example include:\n",
    "- Adding variable roughness based on land cover or channel substrate\n",
    "- Simulating flood events by increasing the inflow discharge\n",
    "- Implementing sediment transport and morphological evolution\n",
    "- Adding structures like bridges or dams to study their hydraulic impacts\n",
    "\n",
    "-- --\n",
    "### And that's it! \n",
    "\n",
    "Nice work completing this tutorial. You now know how to use the `RiverFlowDynamics` Landlab component to run simulations with real topographic data :)\n",
    "\n",
    "-- --"
   ]
  }
 ],
 "metadata": {
  "kernelspec": {
   "display_name": "Python 3 (ipykernel)",
   "language": "python",
   "name": "python3"
  },
  "language_info": {
   "codemirror_mode": {
    "name": "ipython",
    "version": 3
   },
   "file_extension": ".py",
   "mimetype": "text/x-python",
   "name": "python",
   "nbconvert_exporter": "python",
   "pygments_lexer": "ipython3",
   "version": "3.12.5"
  }
 },
 "nbformat": 4,
 "nbformat_minor": 4
}
