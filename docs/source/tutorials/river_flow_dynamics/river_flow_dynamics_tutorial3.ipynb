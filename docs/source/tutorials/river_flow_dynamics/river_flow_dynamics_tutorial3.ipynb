{
 "cells": [
  {
   "cell_type": "markdown",
   "metadata": {},
   "source": [
    "\n",
    "<a href=\"http://landlab.github.io\"><img style=\"float: left; width: 300px;\" src=\"https://landlab.csdms.io/_static/landlab_logo.png\"></a>"
   ]
  },
  {
   "cell_type": "markdown",
   "metadata": {},
   "source": [
    "# Mastering River Flow Dynamics: From Theory to Simulation\n",
    "\n",
    "<hr>\n",
    "<small>For more Landlab tutorials, click here: <a href=\"https://landlab.readthedocs.io/en/latest/user_guide/tutorials.html\">https://landlab.readthedocs.io/en/latest/user_guide/tutorials.html</a></small>\n",
    "<hr>\n"
   ]
  },
  {
   "cell_type": "markdown",
   "metadata": {},
   "source": [
    "## Overview\n",
    "\n",
    "This notebook demonstrates how to simulate river flow dynamics using the Landlab library's RiverFlowDynamics component. We'll explore the core principles of water flow in open channels while implementing a computational model based on the depth-averaged 2D shallow water equations.\n",
    "\n",
    "The RiverFlowDynamics component runs a semi-implicit, semi-Lagrangian finite-volume approximation to the depth-averaged 2D shallow-water equations developed by Casulli and Cheng (1992). This powerful approach allows us to accurately model complex flow patterns in rivers and channels.\n",
    "\n",
    "## Setup and Imports\n",
    "\n",
    "Let's start by importing the necessary libraries:"
   ]
  },
  {
   "cell_type": "code",
   "execution_count": null,
   "metadata": {},
   "outputs": [],
   "source": [
    "import matplotlib.pyplot as plt\n",
    "import numpy as np\n",
    "from IPython.display import clear_output\n",
    "from tqdm import trange\n",
    "\n",
    "from landlab import RasterModelGrid\n",
    "from landlab.components import RiverFlowDynamics\n",
    "from landlab.plot.imshow import imshow_grid"
   ]
  },
  {
   "cell_type": "markdown",
   "metadata": {},
   "source": [
    "## Create Grid and Set Parameter Values\n",
    "\n",
    "First, let's define our simulation parameters and create a rectangular grid for our flow dynamics calculations:"
   ]
  },
  {
   "cell_type": "code",
   "execution_count": null,
   "metadata": {},
   "outputs": [],
   "source": [
    "# Grid dimensions\n",
    "nRows = 20\n",
    "nCols = 60\n",
    "cellSize = 0.1  # meters\n",
    "\n",
    "# Physical parameters\n",
    "mannings_n = 0.012  # Manning's roughness coefficient, [s/m^(1/3)]\n",
    "channel_slope = 0.01  # Channel slope [m/m]\n",
    "\n",
    "# Simulation parameters\n",
    "n_timesteps = 100  # Number of timesteps\n",
    "dt = 0.1  # Timestep duration, [s]"
   ]
  },
  {
   "cell_type": "markdown",
   "metadata": {},
   "source": [
    "Now let's create the grid:"
   ]
  },
  {
   "cell_type": "code",
   "execution_count": null,
   "metadata": {},
   "outputs": [],
   "source": [
    "grid = RasterModelGrid((nRows, nCols), xy_spacing=(cellSize, cellSize))"
   ]
  },
  {
   "cell_type": "markdown",
   "metadata": {},
   "source": [
    "## Setting up the Topography\n",
    "\n",
    "Let's create a rectangular channel with a sloped bed. We'll set higher elevations on the sides to create channel walls:"
   ]
  },
  {
   "cell_type": "code",
   "execution_count": null,
   "metadata": {},
   "outputs": [],
   "source": [
    "# Create topographic elevation field with a sloped channel\n",
    "te = grid.add_zeros(\"topographic__elevation\", at=\"node\")\n",
    "te += 0.059 - channel_slope * grid.x_of_node  # Sloped channel bed\n",
    "\n",
    "# Create channel walls by raising the elevation on the sides\n",
    "te[grid.y_of_node > 1.5] = 1.0  # North wall\n",
    "te[grid.y_of_node < 0.5] = 1.0  # South wall"
   ]
  },
  {
   "cell_type": "markdown",
   "metadata": {},
   "source": [
    "## Visualizing the Initial Topography\n",
    "\n",
    "Let's visualize our channel topography using an enhanced plot:"
   ]
  },
  {
   "cell_type": "code",
   "execution_count": null,
   "metadata": {},
   "outputs": [],
   "source": [
    "plt.figure(figsize=(12, 6))\n",
    "im = imshow_grid(grid, \"topographic__elevation\", cmap=\"terrain\")\n",
    "plt.colorbar(im, label=\"Elevation (m)\")\n",
    "plt.title(\"Channel Topography\", fontsize=14)\n",
    "plt.show()"
   ]
  },
  {
   "cell_type": "markdown",
   "metadata": {},
   "source": [
    "Let's also visualize a longitudinal profile along the channel centerline:"
   ]
  },
  {
   "cell_type": "code",
   "execution_count": null,
   "metadata": {},
   "outputs": [],
   "source": [
    "# Extract the bed profile along the middle row\n",
    "center_row = nRows // 2\n",
    "middleBedProfile = np.reshape(te, (nRows, nCols))[center_row, :]\n",
    "\n",
    "plt.figure(figsize=(12, 5))\n",
    "plt.plot(np.arange(nCols) * cellSize, middleBedProfile, 'brown', linewidth=2)\n",
    "plt.title(\"Longitudinal Profile of Channel Bed\", fontsize=14)\n",
    "plt.xlabel(\"Distance Along Channel (m)\", fontsize=12)\n",
    "plt.ylabel(\"Elevation (m)\", fontsize=12)\n",
    "plt.grid(True)\n",
    "plt.show()"
   ]
  },
  {
   "cell_type": "markdown",
   "metadata": {},
   "source": [
    "## Initializing Water Flow Fields\n",
    "\n",
    "Before running the simulation, we need to set up the initial conditions for water depth, velocity, and water surface elevation:"
   ]
  },
  {
   "cell_type": "code",
   "execution_count": null,
   "metadata": {},
   "outputs": [],
   "source": [
    "# Initially, channel is empty (water depth = 0)\n",
    "h = grid.add_zeros(\"surface_water__depth\", at=\"node\")\n",
    "\n",
    "# Initial water velocity is zero everywhere\n",
    "vel = grid.add_zeros(\"surface_water__velocity\", at=\"link\")\n",
    "\n",
    "# Initial water surface elevation equals the topographic elevation\n",
    "wse = grid.add_zeros(\"surface_water__elevation\", at=\"node\")\n",
    "wse += h + te"
   ]
  },
  {
   "cell_type": "markdown",
   "metadata": {},
   "source": [
    "## Setting up Boundary Conditions\n",
    "\n",
    "Now we'll define where water enters the domain and the corresponding water depth and velocity values at these entry points:"
   ]
  },
  {
   "cell_type": "code",
   "execution_count": null,
   "metadata": {},
   "outputs": [],
   "source": [
    "# Define entry nodes at the left boundary where water will enter\n",
    "fixed_entry_nodes = np.arange(300, 910, 60)  # Nodes along left edge within channel\n",
    "fixed_entry_links = grid.links_at_node[fixed_entry_nodes][:, 0]  # Links connecting to these nodes\n",
    "\n",
    "# Set water depth at entry nodes (0.5m)\n",
    "entry_nodes_h_values = np.full(11, 0.5)  \n",
    "\n",
    "# Set water velocity at entry links (0.45 m/s flowing into domain)\n",
    "entry_links_vel_values = np.full(11, 0.45)"
   ]
  },
  {
   "cell_type": "markdown",
   "metadata": {},
   "source": [
    "Let's visualize the inflow boundary conditions:"
   ]
  },
  {
   "cell_type": "code",
   "execution_count": null,
   "metadata": {},
   "outputs": [],
   "source": [
    "plt.figure(figsize=(10, 6))\n",
    "\n",
    "# Get y-coordinates of nodes at left edge\n",
    "left_edge_y = grid.y_of_node[grid.nodes_at_left_edge]\n",
    "left_edge_topo = te[grid.nodes_at_left_edge]\n",
    "\n",
    "# Plot channel bottom\n",
    "plt.plot(left_edge_y, left_edge_topo, 'brown', linewidth=2, label='Channel Bottom')\n",
    "\n",
    "# Plot water surface at entry nodes\n",
    "entry_y = grid.y_of_node[fixed_entry_nodes]\n",
    "entry_topo = te[fixed_entry_nodes]\n",
    "plt.plot(entry_y, entry_topo + entry_nodes_h_values, 'b-', linewidth=2, label='Water Surface')\n",
    "\n",
    "# Fill between channel bottom and water surface\n",
    "plt.fill_between(entry_y, entry_topo, entry_topo + entry_nodes_h_values, color='blue', alpha=0.3)\n",
    "\n",
    "plt.title(\"Inflow Boundary Condition at Left Edge\", fontsize=14)\n",
    "plt.xlabel(\"Distance Across Channel (m)\", fontsize=12)\n",
    "plt.ylabel(\"Elevation (m)\", fontsize=12)\n",
    "plt.grid(True)\n",
    "plt.legend()\n",
    "plt.show()"
   ]
  },
  {
   "cell_type": "markdown",
   "metadata": {},
   "source": [
    "## Initialize the River Flow Dynamics Component\n",
    "\n",
    "Now that we've set up our grid, topography, and boundary conditions, we can initialize the RiverFlowDynamics component:"
   ]
  },
  {
   "cell_type": "code",
   "execution_count": null,
   "metadata": {},
   "outputs": [],
   "source": [
    "rfd = RiverFlowDynamics(\n",
    "    grid,\n",
    "    dt=dt,\n",
    "    mannings_n=mannings_n,\n",
    "    fixed_entry_nodes=fixed_entry_nodes,\n",
    "    fixed_entry_links=fixed_entry_links,\n",
    "    entry_nodes_h_values=entry_nodes_h_values,\n",
    "    entry_links_vel_values=entry_links_vel_values,\n",
    ")"
   ]
  },
  {
   "cell_type": "markdown",
   "metadata": {},
   "source": [
    "## Run the Simulation\n",
    "\n",
    "Now we'll run the simulation for 100 timesteps (10 seconds) with visualization:"
   ]
  },
  {
   "cell_type": "code",
   "execution_count": null,
   "metadata": {},
   "outputs": [],
   "source": [
    "# Set animation frequency\n",
    "display_animation_freq = 5\n",
    "\n",
    "for timestep in range(n_timesteps):\n",
    "    rfd.run_one_step()\n",
    "    \n",
    "    if timestep % display_animation_freq == 0:\n",
    "        clear_output(wait=True)  # Clear previous output\n",
    "        plt.figure(figsize=(12, 6))\n",
    "        im = imshow_grid(grid, \"surface_water__depth\", cmap=\"Blues\")\n",
    "        plt.colorbar(im, label=\"Water Depth (m)\")\n",
    "        plt.title(f\"Water Depth at Time Step {timestep+1} (Time: {(timestep+1)*dt:.1f}s)\", fontsize=14)\n",
    "        plt.show()"
   ]
  },
  {
   "cell_type": "markdown",
   "metadata": {},
   "source": [
    "## Analyze Final Results\n",
    "\n",
    "Let's analyze the final state of our simulation by visualizing key hydraulic parameters:"
   ]
  },
  {
   "cell_type": "markdown",
   "metadata": {},
   "source": [
    "### Final Water Depth and Surface Elevation"
   ]
  },
  {
   "cell_type": "code",
   "execution_count": null,
   "metadata": {},
   "outputs": [],
   "source": [
    "# Create a figure with two subplots for water depth and surface elevation\n",
    "fig, (ax1, ax2) = plt.subplots(2, 1, figsize=(12, 10))\n",
    "\n",
    "# Plot final water depth\n",
    "plt.subplot(2, 1, 1)\n",
    "im1 = imshow_grid(grid, \"surface_water__depth\", cmap=\"Blues\")\n",
    "plt.colorbar(im1, label=\"Depth (m)\")\n",
    "plt.title(f\"Final Water Depth after {n_timesteps} Time Steps\", fontsize=14)\n",
    "\n",
    "# Plot final water surface elevation\n",
    "plt.subplot(2, 1, 2)\n",
    "im2 = imshow_grid(grid, \"surface_water__elevation\", cmap=\"terrain\")\n",
    "plt.colorbar(im2, label=\"Elevation (m)\")\n",
    "plt.title(f\"Final Water Surface Elevation after {n_timesteps} Time Steps\", fontsize=14)\n",
    "\n",
    "plt.tight_layout()\n",
    "plt.show()"
   ]
  },
  {
   "cell_type": "markdown",
   "metadata": {},
   "source": [
    "### Longitudinal Profiles"
   ]
  },
  {
   "cell_type": "code",
   "execution_count": null,
   "metadata": {},
   "outputs": [],
   "source": [
    "# Extract the centerline nodes\n",
    "center_row = nRows // 2\n",
    "center_nodes = np.arange(center_row * nCols, (center_row + 1) * nCols, dtype=int)\n",
    "\n",
    "# Plot water depth along centerline\n",
    "plt.figure(figsize=(12, 5))\n",
    "plt.plot(grid.x_of_node[center_nodes], grid.at_node['surface_water__depth'][center_nodes], \n",
    "         'b-', linewidth=2, label='Water Depth')\n",
    "plt.grid(True)\n",
    "plt.xlabel('Distance along channel (m)', fontsize=12)\n",
    "plt.ylabel('Water Depth (m)', fontsize=12)\n",
    "plt.title('Longitudinal Profile of Water Depth along Channel Centerline', fontsize=14)\n",
    "plt.legend()\n",
    "plt.show()\n",
    "\n",
    "# Plot water surface elevation and topography along centerline\n",
    "plt.figure(figsize=(12, 5))\n",
    "plt.plot(grid.x_of_node[center_nodes], grid.at_node['surface_water__elevation'][center_nodes], \n",
    "         'b-', linewidth=2, label='Water Surface')\n",
    "plt.plot(grid.x_of_node[center_nodes], grid.at_node['topographic__elevation'][center_nodes], \n",
    "         'brown', linewidth=2, label='Channel Bottom')\n",
    "\n",
    "# Fill between terrain and water surface where there's water\n",
    "water_indices = grid.at_node['surface_water__depth'][center_nodes] > 0\n",
    "plt.fill_between(grid.x_of_node[center_nodes][water_indices], \n",
    "                 grid.at_node['topographic__elevation'][center_nodes][water_indices],\n",
    "                 grid.at_node['surface_water__elevation'][center_nodes][water_indices],\n",
    "                 color='blue', alpha=0.3)\n",
    "\n",
    "plt.grid(True)\n",
    "plt.xlabel('Distance along channel (m)', fontsize=12)\n",
    "plt.ylabel('Elevation (m)', fontsize=12)\n",
    "plt.title('Longitudinal Profile of Water Surface and Channel Bottom', fontsize=14)\n",
    "plt.legend()\n",
    "plt.show()"
   ]
  },
  {
   "cell_type": "markdown",
   "metadata": {},
   "source": [
    "### Flow Velocity Analysis"
   ]
  },
  {
   "cell_type": "code",
   "execution_count": null,
   "metadata": {},
   "outputs": [],
   "source": [
    "# Extract velocity components\n",
    "links_at_node = grid.links_at_node\n",
    "velocity_at_links = grid.at_link[\"surface_water__velocity\"]\n",
    "\n",
    "# Calculate velocity magnitude at nodes (approximate)\n",
    "velocity_magnitude = np.zeros(grid.number_of_nodes)\n",
    "for i in range(grid.number_of_nodes):\n",
    "    # Get valid links (those that are not -1)\n",
    "    valid_links = links_at_node[i][links_at_node[i] >= 0]\n",
    "    if len(valid_links) > 0:\n",
    "        # Take the maximum velocity of connected links as an approximation\n",
    "        velocity_magnitude[i] = np.max(np.abs(velocity_at_links[valid_links]))\n",
    "\n",
    "# Add velocity magnitude field to grid\n",
    "grid.at_node[\"velocity_magnitude\"] = velocity_magnitude\n",
    "\n",
    "# Plot velocity magnitude\n",
    "plt.figure(figsize=(12, 6))\n",
    "im = imshow_grid(grid, \"velocity_magnitude\", cmap=\"plasma\")\n",
    "plt.colorbar(im, label=\"Velocity Magnitude (m/s)\")\n",
    "plt.title(f\"Flow Velocity Magnitude after {n_timesteps} Time Steps\", fontsize=14)\n",
    "plt.show()\n",
    "\n",
    "# Plot velocity along centerline\n",
    "plt.figure(figsize=(12, 5))\n",
    "plt.plot(grid.x_of_node[center_nodes], velocity_magnitude[center_nodes], \n",
    "         'r-', linewidth=2, label='Flow Velocity')\n",
    "plt.grid(True)\n",
    "plt.xlabel('Distance along channel (m)', fontsize=12)\n",
    "plt.ylabel('Velocity (m/s)', fontsize=12)\n",
    "plt.title('Velocity Profile along Channel Centerline', fontsize=14)\n",
    "plt.legend()\n",
    "plt.show()"
   ]
  },
  {
   "cell_type": "markdown",
   "metadata": {},
   "source": [
    "## Cross-sectional Analysis"
   ]
  },
  {
   "cell_type": "code",
   "execution_count": null,
   "metadata": {},
   "outputs": [],
   "source": [
    "# Choose a cross-section near the middle of the channel\n",
    "cross_section_x = nCols // 2\n",
    "cross_section_nodes = np.array([cross_section_x + i * nCols for i in range(nRows)], dtype=int)\n",
    "\n",
    "# Plot cross-section showing water and channel\n",
    "plt.figure(figsize=(10, 6))\n",
    "\n",
    "# Plot channel bottom\n",
    "plt.plot(grid.y_of_node[cross_section_nodes], \n",
    "         grid.at_node['topographic__elevation'][cross_section_nodes], \n",
    "         'brown', linewidth=2, label='Channel Bottom')\n",
    "\n",
    "# Plot water surface\n",
    "plt.plot(grid.y_of_node[cross_section_nodes], \n",
    "         grid.at_node['surface_water__elevation'][cross_section_nodes], \n",
    "         'b-', linewidth=2, label='Water Surface')\n",
    "\n",
    "# Fill between terrain and water surface where there's water\n",
    "water_indices = grid.at_node['surface_water__depth'][cross_section_nodes] > 0\n",
    "plt.fill_between(grid.y_of_node[cross_section_nodes][water_indices], \n",
    "                 grid.at_node['topographic__elevation'][cross_section_nodes][water_indices],\n",
    "                 grid.at_node['surface_water__elevation'][cross_section_nodes][water_indices],\n",
    "                 color='blue', alpha=0.3)\n",
    "\n",
    "plt.grid(True)\n",
    "plt.xlabel('Distance across channel (m)', fontsize=12)\n",
    "plt.ylabel('Elevation (m)', fontsize=12)\n",
    "plt.title(f'Channel Cross-section at x = {cross_section_x*cellSize:.1f} m', fontsize=14)\n",
    "plt.legend()\n",
    "plt.show()"
   ]
  },
  {
   "cell_type": "markdown",
   "metadata": {},
   "source": [
    "## Interpretation of Results\n",
    "\n",
    "Our simulation has captured several key aspects of river flow dynamics:\n",
    "\n",
    "1. **Flow Development**: We observed how water progressively fills the channel, starting from the entry boundary and advancing downstream until reaching a quasi-steady state.\n",
    "\n",
    "2. **Water Surface Profile**: The water surface shows a characteristic profile, with a gradual decrease in elevation downstream, corresponding to the energy gradient needed to overcome friction.\n",
    "\n",
    "3. **Velocity Distribution**: The velocity field reveals how flow accelerates and decelerates in response to changes in channel geometry and water depth, showcasing the conservation of mass and momentum principles.\n",
    "\n",
    "4. **Friction Effects**: Manning's roughness coefficient (n = 0.012) produces realistic flow resistance, resulting in a balance between gravitational forces and frictional resistance.\n",
    "\n",
    "5. **Steady-State Flow**: After sufficient time steps, the flow approaches a steady-state condition with consistent depth and velocity patterns, characteristic of uniform flow in an open channel.\n",
    "\n",
    "This simulation provides valuable insights into the fundamental principles of open-channel hydraulics and demonstrates the capability of the RiverFlowDynamics component to model complex flow phenomena with high fidelity.\n",
    "\n",
    "-- --\n",
    "### And that's it! \n",
    "\n",
    "You've successfully completed this tutorial on river flow dynamics modeling. You now understand how to set up, run, and analyze simulations of water flow in open channels using the RiverFlowDynamics component in Landlab. This knowledge forms the foundation for more complex simulations involving natural river systems, floodplains, and hydraulic structures.\n",
    "\n",
    "-- --\n",
    "\n"
   ]
  },
  {
   "cell_type": "markdown",
   "metadata": {},
   "source": [
    "### Click here for more <a href=\"https://landlab.csdms.io/tutorials/\">Landlab tutorials</a>"
   ]
  }
 ],
 "metadata": {
  "kernelspec": {
   "display_name": "Python 3 (ipykernel)",
   "language": "python",
   "name": "python3"
  },
  "language_info": {
   "codemirror_mode": {
    "name": "ipython",
    "version": 3
   },
   "file_extension": ".py",
   "mimetype": "text/x-python",
   "name": "python",
   "nbconvert_exporter": "python",
   "pygments_lexer": "ipython3",
   "version": "3.12.5"
  }
 },
 "nbformat": 4,
 "nbformat_minor": 4
}
