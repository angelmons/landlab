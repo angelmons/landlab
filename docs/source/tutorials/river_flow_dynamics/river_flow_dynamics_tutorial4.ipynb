{
 "cells": [
  {
   "cell_type": "markdown",
   "metadata": {},
   "source": [
    "\n",
    "<a href=\"http://landlab.github.io\"><img style=\"float: left; width: 300px;\" src=\"https://landlab.csdms.io/_static/landlab_logo.png\"></a>"
   ]
  },
  {
   "cell_type": "markdown",
   "metadata": {},
   "source": [
    "# 2D Surface Water Flow component: Circular Dam Break\n",
    "\n",
    "<hr>\n",
    "<small>For more Landlab tutorials, click here: <a href=\"https://landlab.readthedocs.io/en/latest/user_guide/tutorials.html\">https://landlab.readthedocs.io/en/latest/user_guide/tutorials.html</a></small>\n",
    "<hr>\n",
    "\n"
   ]
  },
  {
   "cell_type": "markdown",
   "metadata": {},
   "source": [
    "## Overview\n",
    "\n",
    "This notebook demonstrates the usage of the `RiverFlowDynamics` Landlab component to simulate a circular dam break. The component runs a semi-implicit, semi-Lagrangian finite-volume approximation to the depth-averaged 2D shallow-water equations of Casulli and Cheng (1992) and related work.\n",
    "\n",
    "### Theory\n",
    "\n",
    "The depth-averaged 2D shallow-water equations are the simplification of the Navier-Stokes equations, which correspond to the balance of momentum and mass in the fluid. It is possible to simplify these equations by assuming a well-mixed water column and a small water depth to width ratio, where a vertical integration results in depth-averaged equations. These require boundary conditions at the top and bottom of the water column, which are provided by the wind stress and the Manning-Chezy formula, respectively:\n",
    "\n",
    "$$\n",
    "\\frac{\\partial U}{\\partial t}\n",
    "+ U\\frac{\\partial U}{\\partial x} + V\\frac{\\partial U}{\\partial y}\n",
    "= \n",
    "- g\\frac{\\partial \\eta}{\\partial x}\n",
    "+ \\epsilon\\left(\\frac{\\partial^2 U}{\\partial x^2} + \\frac{\\partial^2 U}{\\partial y^2}\\right)\n",
    "+ \\frac{\\gamma_T(U_a - U)}{H} - g\\frac{\\sqrt{U^2 + V^2}}{Cz^2}U + \\mathbf{f}V\n",
    "$$\n",
    "\n",
    "$$\n",
    "\\frac{\\partial V}{\\partial t}\n",
    "+ U\\frac{\\partial V}{\\partial x} + V\\frac{\\partial V}{\\partial y}\n",
    "= \n",
    "- g\\frac{\\partial \\eta}{\\partial y}\n",
    "+ \\epsilon\\left(\\frac{\\partial^2 V}{\\partial x^2} + \\frac{\\partial^2 V}{\\partial y^2}\\right)\n",
    "+ \\frac{\\gamma_T(V_a - V)}{H} - g\\frac{\\sqrt{U^2 + V^2}}{Cz^2}V + \\mathbf{f}U\n",
    "$$\n",
    "\n",
    "$$\n",
    "\\frac{\\partial \\eta}{\\partial t}\n",
    "+ \\frac{\\partial (HU)}{\\partial x} + \\frac{\\partial (HV)}{\\partial y}\n",
    "= 0\n",
    "$$\n",
    "\n",
    "where $U$ is the water velocity in the $x$-direction, $V$ is the water velocity in the $y$-direction, $H$ is the water depth, $\\eta$ is the water surface elevation, $Cz$ is the Chezy friction coefficient, and $t$ is time. For the constants $g$ is the gravity acceleration, $\\epsilon$ is the horizontal eddy viscosity, $\\mathbf{f}$ is the Coriolis parameter, $\\gamma_T$ is the wind stress coefficient, and $U_a$ and $V_a$ are the prescribed wind velocities.\n",
    "\n",
    "### The component\n",
    "\n",
    "Import the required libraries:"
   ]
  },
  {
   "cell_type": "code",
   "execution_count": null,
   "metadata": {},
   "outputs": [],
   "source": [
    "import numpy as np\n",
    "from IPython.display import clear_output\n",
    "from landlab import RasterModelGrid\n",
    "from landlab.components import RiverFlowDynamics\n",
    "import matplotlib.pyplot as plt\n",
    "from landlab.plot.imshow import imshow_grid\n",
    "import os\n",
    "from pathlib import Path\n",
    "\n",
    "# Import plotting function\n",
    "from river_flow_dynamics_tutorial4_plot import *\n"
   ]
  },
  {
   "cell_type": "markdown",
   "metadata": {},
   "source": [
    "## Information about the component\n",
    "\n",
    "Using the class name as argument for the `help` function returns descriptions of the various methods and parameters."
   ]
  },
  {
   "cell_type": "code",
   "execution_count": null,
   "metadata": {},
   "outputs": [],
   "source": [
    "help(RiverFlowDynamics)"
   ]
  },
  {
   "cell_type": "markdown",
   "metadata": {},
   "source": [
    "## Example: Circular dam break\n",
    "\n",
    "This example describes the instantaneous collapse of an idealized circular dam. The initial condition is comprised of two regions of stationary water bodies, which are separated by a thin-walled cylinder of diameter 22 m located in the center of a 50x50 m² horizontal and frictionless channel. The domain is discretized by 10,000 rectangular elements."
   ]
  },
  {
   "cell_type": "markdown",
   "metadata": {},
   "source": [
    "### Define simulation parameters\n",
    "\n",
    "We specify basic parameters such as Manning's roughness coefficient, time step duration, number of time steps, and the domain dimensions."
   ]
  },
  {
   "cell_type": "code",
   "execution_count": null,
   "metadata": {},
   "outputs": [],
   "source": [
    "n = 0.012  # Manning's roughness coefficient, [s/m^(1/3)]\n",
    "n_timesteps = 71  # Number of timesteps\n",
    "dt = 0.01  # Timestep duration, [s]\n",
    "nrows = 101  # Number of node rows\n",
    "ncols = 101  # Number of node cols\n",
    "dx = 0.5  # Node spacing in the x-direction, [m]\n",
    "dy = 0.5  # Node spacing in the y-direction, [m]\n",
    "theta = 0.5  # Implicit solution parameter"
   ]
  },
  {
   "cell_type": "markdown",
   "metadata": {},
   "source": [
    "### Create the grid\n",
    "\n",
    "We create a grid with the dimensions specified above."
   ]
  },
  {
   "cell_type": "code",
   "execution_count": null,
   "metadata": {},
   "outputs": [],
   "source": [
    "grid = RasterModelGrid((nrows, ncols), xy_spacing=(dx, dy))"
   ]
  },
  {
   "cell_type": "markdown",
   "metadata": {},
   "source": [
    "### Set up topography\n",
    "\n",
    "Create the elevation field and define the topography to represent a flat surface at the bottom."
   ]
  },
  {
   "cell_type": "code",
   "execution_count": null,
   "metadata": {},
   "outputs": [],
   "source": [
    "te = grid.add_zeros(\"topographic__elevation\", at=\"node\")"
   ]
  },
  {
   "cell_type": "markdown",
   "metadata": {},
   "source": [
    "### Set initial water depth\n",
    "\n",
    "The water depth inside and outside the wall are 11 and 1 m, respectively. We need to define this circular region carefully to avoid issues with square root calculations."
   ]
  },
  {
   "cell_type": "code",
   "execution_count": null,
   "metadata": {},
   "outputs": [],
   "source": [
    "# Initial water depth setup - Circular dam break\n",
    "center_x = 25.0  # Grid center x\n",
    "center_y = 25.0  # Grid center y\n",
    "radius = 10.5    # Initial circle radius\n",
    "\n",
    "# Calculate distance and create circle\n",
    "distance_from_center = np.sqrt((grid.x_of_node - center_x)**2 + (grid.y_of_node - center_y)**2)\n",
    "inside_circle = distance_from_center < radius\n",
    "\n",
    "# Set water depth\n",
    "h = grid.add_ones(\"surface_water__depth\", at=\"node\")\n",
    "h[inside_circle] = 10.0\n",
    "\n",
    "# Add transition front\n",
    "transition_width = 0.5  # meters\n",
    "transition_zone = (distance_from_center > radius) & (distance_from_center <= radius + transition_width)\n",
    "transition_factor = 1 - (distance_from_center[transition_zone] - radius) / transition_width\n",
    "h[transition_zone] = 1.0 + 9.0 * transition_factor\n",
    "\n",
    "# Initialize velocity and water surface elevation\n",
    "vel = grid.add_zeros(\"surface_water__velocity\", at=\"link\")\n",
    "wse = grid.add_zeros(\"surface_water__elevation\", at=\"node\")\n",
    "wse += h + te"
   ]
  },
  {
   "cell_type": "markdown",
   "metadata": {},
   "source": [
    "### Visualize initial conditions\n",
    "\n",
    "Let's check the initial water depth and water surface elevation before running the simulation."
   ]
  },
  {
   "cell_type": "code",
   "execution_count": null,
   "metadata": {},
   "outputs": [],
   "source": [
    "# Plotting water depth\n",
    "plt.figure(figsize=(10, 8))\n",
    "im = imshow_grid(grid, \"surface_water__depth\", cmap=\"Blues\")\n",
    "plt.title(\"Initial Water Depth - (m)\")\n",
    "plt.show()"
   ]
  },
  {
   "cell_type": "code",
   "execution_count": null,
   "metadata": {},
   "outputs": [],
   "source": [
    "# Plotting water surface elevation\n",
    "plt.figure(figsize=(10, 8))\n",
    "im = imshow_grid(grid, \"surface_water__elevation\", cmap=\"terrain\")\n",
    "plt.title(\"Initial Water Surface Elevation - (m)\")\n",
    "plt.show()"
   ]
  },
  {
   "cell_type": "markdown",
   "metadata": {},
   "source": [
    "### Initialize the RiverFlowDynamics component\n",
    "\n",
    "We initialize our component by passing the grid and simulation parameters."
   ]
  },
  {
   "cell_type": "code",
   "execution_count": null,
   "metadata": {},
   "outputs": [],
   "source": [
    "rfd = RiverFlowDynamics(grid, dt=dt, mannings_n=n, theta=theta)"
   ]
  },
  {
   "cell_type": "markdown",
   "metadata": {},
   "source": [
    "### Run the simulation\n",
    "\n",
    "Now we run the model to simulate the collapse of the circular dam and visualize the water spreading. An animation of the Dam Break will be generated. Animation options are set at the beginning of the cell."
   ]
  },
  {
   "cell_type": "code",
   "execution_count": null,
   "metadata": {},
   "outputs": [],
   "source": [
    "display_frequency = 1  # Show plots every N timesteps\n",
    "output_dir = \"simulation_frames\" # Create output directory for images\n",
    "\n",
    "Path(output_dir).mkdir(exist_ok=True)\n",
    "# Main simulation loop\n",
    "for timestep in range(n_timesteps):\n",
    "    print(f\"Running timestep {timestep+1}/{n_timesteps}\")\n",
    "    \n",
    "    # Run one simulation step\n",
    "    rfd.run_one_step()\n",
    "    \n",
    "    # Visualization and saving\n",
    "    if timestep % display_frequency == 0:\n",
    "        clear_output(wait=True)       \n",
    "      \n",
    "        # Create combined 3D and cross-section plot\n",
    "        fig, (ax1, ax2, cbar_ax) = create_combined_plot(grid, timestep+1)\n",
    "        \n",
    "        # Save the figure as PNG with high quality\n",
    "        filename = os.path.join(output_dir, f\"frame_{timestep+1:03d}.png\")\n",
    "        fig.savefig(filename, dpi=150, bbox_inches='tight', \n",
    "                   facecolor='white', edgecolor='none')\n",
    "        \n",
    "        # Close the figure to free memory\n",
    "        plt.close(fig)\n"
   ]
  },
  {
   "cell_type": "markdown",
   "metadata": {},
   "source": [
    "### Visualize animation\n",
    "\n",
    "Let's examine the water depth and water surface elevation evolution in time"
   ]
  },
  {
   "cell_type": "code",
   "execution_count": null,
   "metadata": {},
   "outputs": [],
   "source": [
    "# Example 1: Create a 3-second animation\n",
    "create_gif_animation(\n",
    "    input_folder=\"simulation_frames\",\n",
    "    output_filename=\"dam_break.gif\",\n",
    "    total_duration_seconds=3\n",
    ")\n",
    "# Display it in the notebook\n",
    "show_gif_in_notebook(\"dam_break.gif\")"
   ]
  },
  {
   "cell_type": "markdown",
   "metadata": {},
   "source": [
    "## Interpretation of Results\n",
    "\n",
    "We can see how the initially circular dam with a flat top is now expanding across the domain. The results at the end of the simulation show that the water depth is propagating radially outward, creating complex flow patterns as it moves through the domain. \n",
    "\n",
    "Analytically, the water depth distribution should be symmetrical, but given our configuration to speed up the simulation, a relatively coarse grid was used. The observed asymmetries and small oscillations in the water depth are numerical artifacts resulting from this discretization. Using a finer grid resolution and smaller time steps would result in a more well-defined and symmetrical water depth distribution.\n",
    "\n",
    "The cross-section plots reveal important hydraulic features:\n",
    "\n",
    "1. The initial abrupt step in water depth (between 1m and 11m) has evolved into a smoother profile\n",
    "2. Water is propagating outward as a wave front, with the highest elevation still near the center\n",
    "3. Small oscillations in the water depth profile are characteristic of the second-order numerical scheme implemented in RiverFlowDynamics, which captures wave propagation with higher accuracy but can introduce these artifacts at sharp transitions\n",
    "\n",
    "This simulation demonstrates the capability of the RiverFlowDynamics component to capture complex hydraulic phenomena such as dam breaks, flood waves, and their propagation over time."
   ]
  },
  {
   "cell_type": "markdown",
   "metadata": {},
   "source": [
    "## Physics of the dam break problem\n",
    "\n",
    "This simulation demonstrates the classical dam break problem in a circular configuration. Initially, we have a higher water level inside a circular boundary (the \"dam\"), with a lower water level outside. When the simulation begins, the dam is instantly removed, allowing water to flow outward in all directions due to the pressure gradient.\n",
    "\n",
    "Key phenomena observed in this simulation:\n",
    "\n",
    "1. **Wave propagation**: As the dam breaks, a wave front propagates outward from the center.\n",
    "2. **Momentum conservation**: The water carries momentum as it flows, creating complex flow patterns.\n",
    "3. **Mass conservation**: The total volume of water in the system remains constant.\n",
    "4. **Friction effects**: Manning's coefficient accounts for the frictional losses as water flows over the surface.\n",
    "\n",
    "This type of simulation is valuable for understanding flood propagation, hydraulic jumps, and other hydrodynamic phenomena relevant to civil engineering and natural hazard assessment."
   ]
  },
  {
   "cell_type": "markdown",
   "metadata": {},
   "source": [
    "## Conclusion\n",
    "\n",
    "In this tutorial, we've demonstrated how to use the `RiverFlowDynamics` component in Landlab to simulate a circular dam break. The component provides a robust solution to the shallow water equations, allowing for accurate modeling of complex hydraulic phenomena.\n",
    "\n",
    "Some potential extensions to this example include:\n",
    "- Adding topographic variations to the domain\n",
    "- Changing the dam geometry to study different break patterns\n",
    "- Adjusting Manning's coefficient to simulate different surface roughness conditions\n",
    "- Adding inflow/outflow boundary conditions to simulate continuous flow\n",
    "\n",
    "-- --\n",
    "### And that's it! \n",
    "\n",
    "Nice work completing this tutorial. You now know how to use the `RiverFlowDynamics` Landlab component to run your own simulations :)\n",
    "\n",
    "-- --\n"
   ]
  },
  {
   "cell_type": "markdown",
   "metadata": {},
   "source": [
    "### Click here for more <a href=\"https://landlab.csdms.io/tutorials/\">Landlab tutorials</a>"
   ]
  }
 ],
 "metadata": {
  "kernelspec": {
   "display_name": "Python 3 (ipykernel)",
   "language": "python",
   "name": "python3"
  },
  "language_info": {
   "codemirror_mode": {
    "name": "ipython",
    "version": 3
   },
   "file_extension": ".py",
   "mimetype": "text/x-python",
   "name": "python",
   "nbconvert_exporter": "python",
   "pygments_lexer": "ipython3",
   "version": "3.12.5"
  }
 },
 "nbformat": 4,
 "nbformat_minor": 4
}
