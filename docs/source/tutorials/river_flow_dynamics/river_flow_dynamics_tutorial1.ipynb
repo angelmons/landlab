{
 "cells": [
  {
   "cell_type": "markdown",
   "metadata": {},
   "source": [
    "\n",
    "<a href=\"http://landlab.github.io\"><img style=\"float: left; width: 300px;\" src=\"https://landlab.csdms.io/_static/landlab_logo.png\"></a>"
   ]
  },
  {
   "cell_type": "markdown",
   "metadata": {},
   "source": [
    "# 2D Surface Water Flow component\n",
    "\n",
    "<hr>\n",
    "<small>For more Landlab tutorials, click here: <a href=\"https://landlab.readthedocs.io/en/latest/user_guide/tutorials.html\">https://landlab.readthedocs.io/en/latest/user_guide/tutorials.html</a></small>\n",
    "<hr>\n"
   ]
  },
  {
   "cell_type": "markdown",
   "metadata": {},
   "source": [
    "## Overview\n",
    "\n",
    "This notebook demonstrate the usage of the `river flow dynamics` Landlab component. The component runs a semi-implicit, semi-Lagrangian finite-volume approximation to the depth-averaged 2D shallow-water equations of Casulli and Cheng (1992) and related work.\n",
    "\n",
    "### Theory\n",
    "\n",
    "The depth-averaged 2D shallow-water equations are the simplification of the Navier-Stokes equations, which correspond to the balance of momentum and mass in the fluid. It is possible to simplify these equations by assuming a well-mixed water column and a small water depth to width ratio, where a vertical integration results in depth-averaged equations. These require boundary conditions at the top and bottom of the water column, which are provided by the wind stress and the Manning-Chezy formula, respectively:\n",
    "\n",
    "$$\n",
    "\\frac{\\partial U}{\\partial t}\n",
    "+ U\\frac{\\partial U}{\\partial x} + V\\frac{\\partial U}{\\partial y}\n",
    "= \n",
    "- g\\frac{\\partial \\eta}{\\partial x}\n",
    "+ \\epsilon\\left(\\frac{\\partial^2 U}{\\partial x^2} + \\frac{\\partial^2 U}{\\partial y^2}\\right)\n",
    "+ \\frac{\\gamma_T(U_a - U)}{H} - g\\frac{\\sqrt{U^2 + V^2}}{Cz^2}U + \\mathbf{f}V\n",
    "$$\n",
    "\n",
    "$$\n",
    "\\frac{\\partial V}{\\partial t}\n",
    "+ U\\frac{\\partial V}{\\partial x} + V\\frac{\\partial V}{\\partial y}\n",
    "= \n",
    "- g\\frac{\\partial \\eta}{\\partial y}\n",
    "+ \\epsilon\\left(\\frac{\\partial^2 V}{\\partial x^2} + \\frac{\\partial^2 V}{\\partial y^2}\\right)\n",
    "+ \\frac{\\gamma_T(V_a - V)}{H} - g\\frac{\\sqrt{U^2 + V^2}}{Cz^2}V + \\mathbf{f}U\n",
    "$$\n",
    "\n",
    "$$\n",
    "\\frac{\\partial \\eta}{\\partial t}\n",
    "+ \\frac{\\partial (HU)}{\\partial x} + \\frac{\\partial (HV)}{\\partial y}\n",
    "= 0\n",
    "$$\n",
    "\n",
    "where $U$ is the water velocity in the $x$-direction, $V$ is the water velocity in the $y$-direction, $H$ is the water depth, $\\eta$ is the water surface elevation, $Cz$ is the Chezy friction coefficient, and $t$ is time. For the constants $g$ is the gravity acceleration, $\\epsilon$ is the horizontal eddy viscosity, $\\mathbf{f}$ is the Coriolis parameter, $\\gamma_T$ is the wind stress coefficient, and $U_a$ and $V_a$ are the prescribed wind velocities.\n",
    "\n",
    "### Numerical representation\n",
    "\n",
    "A semi-implicit, semi-Lagrangian, finite volume numerical approximation represents the depth averaged, 2D shallow-water equations described before. The water surface elevation, $\\eta$, is defined at the center of each computational volume (nodes). Water depth, $H$, and velocity components, $U$ and $V$, are defined at the midpoint of volume faces (links). The finite volume structure provides a control volume representation that is inherently mass conservative.\n",
    "\n",
    "The combination of a semi-implciit water surface elevation solution and a semi-Lagrangian representation of advection provides the advantages of a stable solution and of time steps that exceed the CFL criterion. In the semi-implicit process, $\\eta$ in the momentum equations, and the velocity divergence in the continuity equation, are treated implicitly. The advective terms in the momentum equations, are discretized explicitly. See the cited literature for more details.\n",
    "\n",
    "### The component\n",
    "\n",
    "Import the needed libraries:"
   ]
  },
  {
   "cell_type": "code",
   "execution_count": null,
   "metadata": {},
   "outputs": [],
   "source": [
    "import matplotlib.pyplot as plt\n",
    "import numpy as np\n",
    "from IPython.display import clear_output\n",
    "from tqdm import trange\n",
    "\n",
    "from landlab import RasterModelGrid\n",
    "from landlab.components import RiverFlowDynamics\n",
    "from landlab.io import esri_ascii\n",
    "from landlab.plot.imshow import imshow_grid"
   ]
  },
  {
   "cell_type": "markdown",
   "metadata": {},
   "source": [
    "## Information about the component\n",
    "\n",
    "Using the class name as argument for the `help` function returns descriptions of the various methods and parameters."
   ]
  },
  {
   "cell_type": "code",
   "execution_count": null,
   "metadata": {},
   "outputs": [],
   "source": [
    "help(RiverFlowDynamics)"
   ]
  },
  {
   "cell_type": "markdown",
   "metadata": {},
   "source": [
    "## Examples\n",
    "\n",
    "-- --\n",
    "\n",
    "### Example 1: Flow in a rectangular channel 6.0 m long\n",
    "\n",
    "This first basic example illustrates water flowing through a rectangular channel 1.0 $m$ wide and 6.0 $m$ long. Our channel is made in concrete, so we choose a Manning's roughness coefficient equal to 0.012 $s/m^\\frac{1}{3}$, and it has a slope of 0.01 $m/m$.\n",
    "\n",
    "We specify some basic parameters such as the grid resolution, time step duration, number of time steps, and the domain dimensions by specifying the number of columns and rows. "
   ]
  },
  {
   "cell_type": "code",
   "execution_count": null,
   "metadata": {},
   "outputs": [],
   "source": [
    "# Basic parameters\n",
    "mannings_n = 0.012  # Manning's roughness coefficient, [s/m^(1/3)]\n",
    "channel_slope = 0.01  # Channel slope [m/m]\n",
    "\n",
    "# Simulation parameters\n",
    "n_timesteps = 1000  # Number of timesteps\n",
    "dt = 0.1  # Timestep duration, [s]\n",
    "nrows = 20  # Number of node rows\n",
    "ncols = 60  # Number of node cols\n",
    "dx = 0.1  # Node spacing in the x-direction, [m]\n",
    "dy = 0.1  # Node spacing in the y-direction, [m]"
   ]
  },
  {
   "cell_type": "markdown",
   "metadata": {},
   "source": [
    "Create the grid:"
   ]
  },
  {
   "cell_type": "code",
   "execution_count": null,
   "metadata": {},
   "outputs": [],
   "source": [
    "# Create and set up the grid\n",
    "grid = RasterModelGrid((nrows, ncols), xy_spacing=(dx, dy))"
   ]
  },
  {
   "cell_type": "markdown",
   "metadata": {},
   "source": [
    "Create the elevation field and define the topography to represent our rectangular channel:"
   ]
  },
  {
   "cell_type": "code",
   "execution_count": null,
   "metadata": {},
   "outputs": [],
   "source": [
    "# The grid represents a basic rectangular channel with slope equal to 0.01 m/m\n",
    "te = grid.add_field(\n",
    "    \"topographic__elevation\", 1.0 - channel_slope * grid.x_of_node, at=\"node\"\n",
    ")\n",
    "te[grid.y_of_node > 1.5] = 2.5\n",
    "te[grid.y_of_node < 0.5] = 2.5"
   ]
  },
  {
   "cell_type": "markdown",
   "metadata": {},
   "source": [
    "We show a top view of the domain:"
   ]
  },
  {
   "cell_type": "code",
   "execution_count": null,
   "metadata": {},
   "outputs": [],
   "source": [
    "# Showing the topography with improved visualization\n",
    "plt.figure(figsize=(12, 6))\n",
    "im = imshow_grid(grid, \"topographic__elevation\", cmap=\"terrain\")\n",
    "plt.colorbar(im, label=\"Elevation (m)\")\n",
    "plt.title(\"Channel Topography\")\n",
    "plt.show()"
   ]
  },
  {
   "cell_type": "markdown",
   "metadata": {},
   "source": [
    "The channel is empty at the beginning of the simulation, so we create the fields for the water surface elevation, depth and velocity:"
   ]
  },
  {
   "cell_type": "code",
   "execution_count": null,
   "metadata": {},
   "outputs": [],
   "source": [
    "# We establish the initial conditions, which represent an empty channel\n",
    "h = grid.add_zeros(\"surface_water__depth\", at=\"node\")\n",
    "\n",
    "# Water velocity is zero in everywhere since there is no water yet\n",
    "vel = grid.add_zeros(\"surface_water__velocity\", at=\"link\")\n",
    "\n",
    "# Calculating the initial water surface elevation from water depth and topographic elevation\n",
    "wse = grid.add_field(\"surface_water__elevation\", te, at=\"node\")"
   ]
  },
  {
   "cell_type": "markdown",
   "metadata": {},
   "source": [
    "Then, we specify the nodes at which water is entering into the domain, and also the associated links. These are going to be the entry boundary conditions for water depth and velocity. In this case, water flows from left to right at 0.5 $m$ depth, with a velocity of 0.45 $m/s$:"
   ]
  },
  {
   "cell_type": "code",
   "execution_count": null,
   "metadata": {},
   "outputs": [],
   "source": [
    "# We set fixed boundary conditions, specifying the nodes and links in which the water is flowing into the grid\n",
    "fixed_entry_nodes = np.array([300, 360, 420, 480, 540, 600, 660, 720, 780, 840, 900])\n",
    "fixed_entry_links = grid.links_at_node[fixed_entry_nodes][:, 0]\n",
    "\n",
    "# We set the fixed values in the entry nodes/links\n",
    "entry_nodes_h_values = np.array([0.5, 0.5, 0.5, 0.5, 0.5, 0.5, 0.5, 0.5, 0.5, 0.5, 0.5])\n",
    "entry_links_vel_values = np.array(\n",
    "    [0.45, 0.45, 0.45, 0.45, 0.45, 0.45, 0.45, 0.45, 0.45, 0.45, 0.45]\n",
    ")"
   ]
  },
  {
   "cell_type": "markdown",
   "metadata": {},
   "source": [
    "And now we show the boundary condition in the cross-section with improved visualization:"
   ]
  },
  {
   "cell_type": "code",
   "execution_count": null,
   "metadata": {},
   "outputs": [],
   "source": [
    "plt.figure(figsize=(10, 6))\n",
    "plt.plot(\n",
    "    grid.y_of_node[fixed_entry_nodes], entry_nodes_h_values + te[fixed_entry_nodes],\n",
    "    'b-', linewidth=2, label='Water Surface'\n",
    ")\n",
    "plt.plot(grid.y_of_node[grid.nodes_at_left_edge], te[grid.nodes_at_left_edge],\n",
    "        'brown', linewidth=2, label='Channel Bottom')\n",
    "plt.title(\"Channel Cross-section at Entry Boundary\", fontsize=14)\n",
    "plt.xlabel(\"Distance across channel [m]\", fontsize=12)\n",
    "plt.ylabel(\"Elevation [m]\", fontsize=12)\n",
    "plt.axis([0.25, 1.75, 0.75, 2.75])\n",
    "plt.grid(True)\n",
    "plt.legend()\n",
    "plt.show()"
   ]
  },
  {
   "cell_type": "markdown",
   "metadata": {},
   "source": [
    "We construct our component by passing the arguments we defined previously:"
   ]
  },
  {
   "cell_type": "code",
   "execution_count": null,
   "metadata": {},
   "outputs": [],
   "source": [
    "# Finally, we run the model and let the water fill our channel\n",
    "rfd = RiverFlowDynamics(\n",
    "    grid,\n",
    "    dt=dt,\n",
    "    mannings_n=mannings_n,\n",
    "    fixed_entry_nodes=fixed_entry_nodes,\n",
    "    fixed_entry_links=fixed_entry_links,\n",
    "    entry_nodes_h_values=entry_nodes_h_values,\n",
    "    entry_links_vel_values=entry_links_vel_values,\n",
    ")"
   ]
  },
  {
   "cell_type": "markdown",
   "metadata": {},
   "source": [
    "And finally, we run the simulation for 1000 timesteps (100 seconds) with improved animation."
   ]
  },
  {
   "cell_type": "code",
   "execution_count": null,
   "metadata": {},
   "outputs": [],
   "source": [
    "# Set the animation frequency to n_timesteps if you\n",
    "# don't want to plot the water depth\n",
    "# display_animation_freq = n_timesteps\n",
    "display_animation_freq = 5\n",
    "\n",
    "for timestep in trange(n_timesteps):\n",
    "    rfd.run_one_step()\n",
    "\n",
    "    if timestep % display_animation_freq == 0:\n",
    "        clear_output(wait=True)  # This will clear the previous image\n",
    "        plt.figure(figsize=(12, 6))\n",
    "        im = imshow_grid(grid, \"surface_water__depth\", cmap=\"Blues\")\n",
    "        plt.colorbar(im, label=\"Water Depth (m)\")\n",
    "        plt.title(f\"Water Depth at Time Step {timestep+1}\")\n",
    "        plt.show()"
   ]
  },
  {
   "cell_type": "markdown",
   "metadata": {},
   "source": [
    "Exploring the water depth results at the latest time with enhanced visualization:"
   ]
  },
  {
   "cell_type": "code",
   "execution_count": null,
   "metadata": {},
   "outputs": [],
   "source": [
    "plt.figure(figsize=(12, 6))\n",
    "im = imshow_grid(grid, \"surface_water__depth\", cmap=\"Blues\")\n",
    "plt.colorbar(im, label=\"Water Depth (m)\")\n",
    "plt.title(f\"Final Water Depth after {n_timesteps} Time Steps\")\n",
    "plt.show()"
   ]
  },
  {
   "cell_type": "markdown",
   "metadata": {},
   "source": [
    "And the water surface elevation with enhanced visualization:"
   ]
  },
  {
   "cell_type": "code",
   "execution_count": null,
   "metadata": {},
   "outputs": [],
   "source": [
    "plt.figure(figsize=(12, 6))\n",
    "im = imshow_grid(grid, \"surface_water__elevation\", cmap=\"terrain\")\n",
    "plt.colorbar(im, label=\"Water Surface Elevation (m)\")\n",
    "plt.title(f\"Final Water Surface Elevation after {n_timesteps} Time Steps\")\n",
    "plt.show()"
   ]
  },
  {
   "cell_type": "markdown",
   "metadata": {},
   "source": [
    "Let's also visualize a longitudinal profile of the water depth and water surface elevation along the channel centerline:"
   ]
  },
  {
   "cell_type": "code",
   "execution_count": null,
   "metadata": {},
   "outputs": [],
   "source": [
    "# Get center row of the channel\n",
    "center_row = nrows // 2\n",
    "center_nodes = np.arange(center_row * ncols, (center_row + 1) * ncols, dtype=int)\n",
    "\n",
    "# Plot water depth along centerline\n",
    "plt.figure(figsize=(12, 6))\n",
    "plt.plot(grid.x_of_node[center_nodes], grid.at_node['surface_water__depth'][center_nodes], \n",
    "         'b-', linewidth=2, label='Water Depth')\n",
    "plt.grid(True)\n",
    "plt.xlabel('Distance along channel (m)', fontsize=12)\n",
    "plt.ylabel('Water Depth (m)', fontsize=12)\n",
    "plt.title('Longitudinal Profile of Water Depth along Channel Centerline', fontsize=14)\n",
    "plt.legend()\n",
    "plt.show()\n",
    "\n",
    "# Plot water surface elevation and topography along centerline\n",
    "plt.figure(figsize=(12, 6))\n",
    "plt.plot(grid.x_of_node[center_nodes], grid.at_node['surface_water__elevation'][center_nodes], \n",
    "         'b-', linewidth=2, label='Water Surface')\n",
    "plt.plot(grid.x_of_node[center_nodes], grid.at_node['topographic__elevation'][center_nodes], \n",
    "         'brown', linewidth=2, label='Channel Bottom')\n",
    "plt.grid(True)\n",
    "plt.xlabel('Distance along channel (m)', fontsize=12)\n",
    "plt.ylabel('Elevation (m)', fontsize=12)\n",
    "plt.title('Longitudinal Profile of Water Surface and Channel Bottom', fontsize=14)\n",
    "plt.legend()\n",
    "plt.show()"
   ]
  },
  {
   "cell_type": "markdown",
   "metadata": {},
   "source": [
    "## Interpretation of Results\n",
    "\n",
    "The simulation shows the development of water flow in a rectangular channel with a constant inflow at the left boundary. Key observations from the results include:\n",
    "\n",
    "1. **Water propagation**: The water enters the channel at the left boundary and gradually fills the entire length of the channel over time.\n",
    "\n",
    "2. **Steady-state flow**: After sufficient time steps, the flow approaches a steady-state condition where the water depth stabilizes along the channel.\n",
    "\n",
    "3. **Surface profile**: The water surface profile shows a gradual decrease in elevation in the downstream direction, consistent with the channel slope (0.01 m/m).\n",
    "\n",
    "4. **Velocity distribution**: While not explicitly visualized, the flow velocity is influenced by the channel geometry and the friction coefficient (Manning's n = 0.012), typical for concrete channels.\n",
    "\n",
    "This simulation demonstrates the capability of the RiverFlowDynamics component to model basic channel hydraulics, which is fundamental for understanding river systems, designing water infrastructure, and predicting flood behavior.\n",
    "\n",
    "-- --\n",
    "### And that's it! \n",
    "\n",
    "Nice work completing this tutorial. You know now how to use the `RiverFlowDynamics` Landlab component to run your own simulations :)\n",
    "\n",
    "-- --\n",
    "\n"
   ]
  },
  {
   "cell_type": "markdown",
   "metadata": {},
   "source": [
    "### Click here for more <a href=\"https://landlab.csdms.io/tutorials/\">Landlab tutorials</a>"
   ]
  }
 ],
 "metadata": {
  "kernelspec": {
   "display_name": "Python 3 (ipykernel)",
   "language": "python",
   "name": "python3"
  },
  "language_info": {
   "codemirror_mode": {
    "name": "ipython",
    "version": 3
   },
   "file_extension": ".py",
   "mimetype": "text/x-python",
   "name": "python",
   "nbconvert_exporter": "python",
   "pygments_lexer": "ipython3",
   "version": "3.12.5"
  }
 },
 "nbformat": 4,
 "nbformat_minor": 4
}
