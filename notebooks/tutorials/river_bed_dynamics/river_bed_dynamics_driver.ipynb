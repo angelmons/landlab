{
 "cells": [
  {
   "cell_type": "markdown",
   "metadata": {},
   "source": [
    "<a href=\"http://landlab.github.io\"><img style=\"float: left\" src=\"../../landlab_header.png\"></a>"
   ]
  },
  {
   "cell_type": "markdown",
   "metadata": {},
   "source": [
    "# A Tutorial on Coupling the River Bed Dynamics and Overland Flow Components"
   ]
  },
  {
   "cell_type": "markdown",
   "metadata": {},
   "source": [
    "<hr>\n",
    "<small>For more Landlab tutorials, click here: <a href=\"https://landlab.readthedocs.io/en/latest/user_guide/tutorials.html\">https://landlab.readthedocs.io/en/latest/user_guide/tutorials.html</a></small>\n",
    "<hr>"
   ]
  },
  {
   "cell_type": "markdown",
   "metadata": {},
   "source": [
    "This notebook illustrates the process of running the river bed dynamics component coupled to the 2D deAlmeida overland flow component in an initially flat bedriver that receives an excess sediment supply. Then, it shows how the bed slope is adjusted continously in time and space until it reaches a new bed elevation equilibrium.\n",
    "\n",
    "First, let's import the necessary libraries and modules:"
   ]
  },
  {
   "cell_type": "code",
   "execution_count": null,
   "metadata": {},
   "outputs": [],
   "source": [
    "import copy\n",
    "\n",
    "import numpy as np\n",
    "from matplotlib import pyplot as plt\n",
    "\n",
    "from landlab import imshow_grid\n",
    "from landlab.components import OverlandFlow, RiverBedDynamics\n",
    "from landlab.grid.mappers import map_mean_of_link_nodes_to_link\n",
    "from landlab.io import read_esri_ascii"
   ]
  },
  {
   "cell_type": "markdown",
   "metadata": {},
   "source": [
    "Next, let's define some numerical simulation parameters, time control settings, filenames for accessing the grain size distribution, the digital elevation model (DEM), and set boundary conditions."
   ]
  },
  {
   "cell_type": "code",
   "execution_count": null,
   "metadata": {},
   "outputs": [],
   "source": [
    "# ASCII raster DEM containing the bed surface elevation\n",
    "zDEM = \"bedElevationDEM.asc\"\n",
    "\n",
    "# ASCII file containing grain size distribution\n",
    "gsd = np.loadtxt(\"bed_gsd.txt\")\n",
    "\n",
    "# Elapsed time (sec)\n",
    "t = 0\n",
    "\n",
    "# Maximum time step in sec\n",
    "max_dt = 5\n",
    "\n",
    "# Maximum simulation time (sec)\n",
    "sim_max_t = 5 * 86400\n",
    "\n",
    "n = 0.03874  # Manning's n\n",
    "\n",
    "# bedload rate at inlet in m3/s\n",
    "in_qb = -0.0087\n",
    "\n",
    "# Link Id in which sediment supply and discharge enters\n",
    "in_l = np.array((221, 222))\n",
    "\n",
    "# Nodes Id in Water depth is specified\n",
    "in_n = np.array((129, 130))\n",
    "\n",
    "# Node ID for fixed Nodes\n",
    "fixed_nodes_id = np.array((1, 2, 5, 6))"
   ]
  },
  {
   "cell_type": "markdown",
   "metadata": {},
   "source": [
    "Now we create fields and instantiate the OverlandFlow component. Let's examine the fields that are mandatory for the OverlandFlow component."
   ]
  },
  {
   "cell_type": "code",
   "execution_count": null,
   "metadata": {},
   "outputs": [],
   "source": [
    "OverlandFlow.input_var_names  # Gives the list of all required fields"
   ]
  },
  {
   "cell_type": "markdown",
   "metadata": {},
   "source": [
    "Therefore, we need to create the surface_water__depth and topographic__elevation fields. Additionally, let's create a copy of the topographic elevation to use for comparison at the end of the simulation."
   ]
  },
  {
   "cell_type": "code",
   "execution_count": null,
   "metadata": {},
   "outputs": [],
   "source": [
    "# Load the topographic elevation from a DEM and creates the topographic__elevation field\n",
    "(rmg, z) = read_esri_ascii(zDEM, name=\"topographic__elevation\")\n",
    "\n",
    "# Initialize the surface water depth field - Creates the surface_water__depth\n",
    "rmg.add_zeros(\"surface_water__depth\", at=\"node\")\n",
    "\n",
    "# A copy of the original topographic__elevation - This will be used in a plot at the end so it is copied as a grid field\n",
    "rmg[\"node\"][\"topographic__elevation_original\"] = copy.deepcopy(\n",
    "    rmg[\"node\"][\"topographic__elevation\"]\n",
    ")"
   ]
  },
  {
   "cell_type": "markdown",
   "metadata": {},
   "source": [
    "It would be beneficial to visualize the geometry at this stage"
   ]
  },
  {
   "cell_type": "code",
   "execution_count": null,
   "metadata": {},
   "outputs": [],
   "source": [
    "imshow_grid(rmg, \"topographic__elevation\", vmin=0, vmax=45)"
   ]
  },
  {
   "cell_type": "markdown",
   "metadata": {},
   "source": [
    "Now, let's instantiate the OverlandFlow component."
   ]
  },
  {
   "cell_type": "code",
   "execution_count": null,
   "metadata": {},
   "outputs": [],
   "source": [
    "of = OverlandFlow(\n",
    "    rmg,\n",
    "    h_init=0.001,\n",
    "    mannings_n=n,\n",
    ")"
   ]
  },
  {
   "cell_type": "markdown",
   "metadata": {},
   "source": [
    "Now it is time to instantiate the RiverBedDynamics component, to check the required fields we do:"
   ]
  },
  {
   "cell_type": "code",
   "execution_count": null,
   "metadata": {},
   "outputs": [],
   "source": [
    "RiverBedDynamics.input_var_names"
   ]
  },
  {
   "cell_type": "markdown",
   "metadata": {},
   "source": [
    "We need to create or make sure that these fields exist: \n",
    "'surface_water__depth'\n",
    "'surface_water__velocity'\n",
    "'topographic__elevation'\n",
    "\n",
    "Notice that 'topographic__elevation' was already created. In this case, 'surface_water__depth' appears again, but we should verify if it defined in links or nodes. Also, 'surface_water__velocity' has to be created. We can use RiverBedDynamics.var_mapping to check where these variables are mapped."
   ]
  },
  {
   "cell_type": "code",
   "execution_count": null,
   "metadata": {},
   "outputs": [],
   "source": [
    "RiverBedDynamics.var_mapping"
   ]
  },
  {
   "cell_type": "markdown",
   "metadata": {},
   "source": [
    "We have 'surface_water__depth' and 'topographic__elevation' at nodes. Therefore, we will map 'surface_water__depth' to links and create 'surface_water__velocity'"
   ]
  },
  {
   "cell_type": "code",
   "execution_count": null,
   "metadata": {},
   "outputs": [],
   "source": [
    "rmg.add_zeros(\"surface_water__velocity\", at=\"link\")\n",
    "rmg[\"link\"][\"surface_water__depth\"] = map_mean_of_link_nodes_to_link(\n",
    "    rmg, \"surface_water__depth\"\n",
    ")"
   ]
  },
  {
   "cell_type": "markdown",
   "metadata": {},
   "source": [
    "Before instantiating RiverBedDynamics, we need to specify for this case the sediment transport and bed elevation boundary conditions. These are optional fields, that is why they are not listed as mandatory. We will use the bed_surface__elevation_fixed_node and sediment_transport__sediment_supply_imposed_link optional fields. First we create these fields."
   ]
  },
  {
   "cell_type": "code",
   "execution_count": null,
   "metadata": {},
   "outputs": [],
   "source": [
    "# Creates optional fields that will be used in the simulation\n",
    "# fixed_nodes defines as 1 if a node is fixed or 0 if it can varies in elevation\n",
    "fixed_nodes = np.zeros_like(z)\n",
    "fixed_nodes[fixed_nodes_id] = 1  # Assigns 1 to fixed nodes, all the others are zero.\n",
    "\n",
    "# sediment_transport__sediment_supply_imposed\n",
    "qb = np.full(rmg.number_of_links, 0.0)\n",
    "qb[in_l] = in_qb  # Previously defined - # bedload rate at inlet in m3/s"
   ]
  },
  {
   "cell_type": "markdown",
   "metadata": {},
   "source": [
    "We will pass fixed_nodes and qb during instantiation."
   ]
  },
  {
   "cell_type": "code",
   "execution_count": null,
   "metadata": {},
   "outputs": [],
   "source": [
    "rbd = RiverBedDynamics(\n",
    "    rmg,\n",
    "    gsd=gsd,\n",
    "    variable_critical_shear_stress=True,\n",
    "    outlet_boundary_condition=\"fixedValue\",\n",
    "    bed_surface__elevation_fixed_node=fixed_nodes,\n",
    "    sed_transport__bedload_rate_imposed_link=qb,\n",
    ")"
   ]
  },
  {
   "cell_type": "markdown",
   "metadata": {},
   "source": [
    "We set boundaries as closed boundaries, the outlet is set to an open boundary"
   ]
  },
  {
   "cell_type": "code",
   "execution_count": null,
   "metadata": {},
   "outputs": [],
   "source": [
    "rmg.set_watershed_boundary_condition_outlet_id([1, 2], z, 45.0)"
   ]
  },
  {
   "cell_type": "markdown",
   "metadata": {},
   "source": [
    "A little explanation of what we did for the watershed boundary condition. Our DEM represents a long watershed with a given slope in the central region. The outlet is in the south boundary, which according to landlab grid convention is defined as nodes 1 and 2 (that is why we have ...outlet_id([1,2]..., then z contains the bed surface elevation created when we did:\n",
    "(rmg, z) = read_esri_ascii(bedElevation, name='topographic__elevation'), and 45 tells the component that if that value exist in the DEM it is an invalid value. Most commonly it is used as -9999."
   ]
  },
  {
   "cell_type": "markdown",
   "metadata": {},
   "source": [
    "Here we define some ghost cells. In this tutorial we are analyzing a 1500 m long reach, but the DEM contains data up to 1650 m. Outside 1500 m, where is the point in which the sediment supply is defined, the bed elevation is assumed to vary according to a gradient preserving condition, a boundary condition that allows the water to flow without problems. We will called these nodes calc_n_Id"
   ]
  },
  {
   "cell_type": "code",
   "execution_count": null,
   "metadata": {},
   "outputs": [],
   "source": [
    "calc_n_Id = np.arange(128, 136)\n",
    "n_col = rmg.number_of_node_columns\n",
    "n_row_calc_n = int(calc_n_Id.shape[0] / n_col)\n",
    "calc_n_Id = np.reshape(calc_n_Id, (n_row_calc_n, n_col))"
   ]
  },
  {
   "cell_type": "markdown",
   "metadata": {},
   "source": [
    "Now, let's execute the loop that drives the simulation for both components:"
   ]
  },
  {
   "cell_type": "code",
   "execution_count": null,
   "metadata": {},
   "outputs": [],
   "source": [
    "# The simulation may take a long time to run,\n",
    "# so we added a progress report\n",
    "progress0 = 0\n",
    "while t < sim_max_t:\n",
    "    # Boundary conditions of discharge and flow depth\n",
    "\n",
    "    # Flow discharge in m3/s/m\n",
    "    rmg[\"link\"][\"surface_water__discharge\"][in_l] = -1\n",
    "\n",
    "    # Flow depth at nodes in m\n",
    "    rmg[\"node\"][\"surface_water__depth\"][in_n] = 0.45\n",
    "\n",
    "    # Flow depth at links in m\n",
    "    rmg[\"link\"][\"surface_water__depth\"][in_l] = 0.45\n",
    "\n",
    "    # Velocity at previous time\n",
    "    rbd._surface_water__velocity_prev_time_link = (\n",
    "        rmg[\"link\"][\"surface_water__discharge\"] / rmg[\"link\"][\"surface_water__depth\"]\n",
    "    )\n",
    "\n",
    "    of.overland_flow(dt=max_dt)  # Runs overland flow for one time step\n",
    "\n",
    "    # Velocity at current time\n",
    "    rmg[\"link\"][\"surface_water__velocity\"] = (\n",
    "        rmg[\"link\"][\"surface_water__discharge\"] / rmg[\"link\"][\"surface_water__depth\"]\n",
    "    )\n",
    "\n",
    "    rbd.run_one_step()  # Runs riverBedDynamics for one time step\n",
    "\n",
    "    # Gradient preserving at upstream ghost cells\n",
    "    dsNodesId = np.array(calc_n_Id[0, 1] - np.arange(1, 3) * n_col)\n",
    "\n",
    "    # Updated topographic elevation\n",
    "    z = rmg[\"node\"][\"topographic__elevation\"]\n",
    "\n",
    "    bedSlope = (z[dsNodesId[0]] - z[dsNodesId[1]]) / rmg.dx\n",
    "\n",
    "    for i in np.arange(0, calc_n_Id.shape[0]):\n",
    "        rmg[\"node\"][\"topographic__elevation\"][calc_n_Id[i, 1 : n_col - 1]] = (\n",
    "            z[calc_n_Id[i, 1 : n_col - 1] - 2 * n_col] + 2 * rmg.dx * bedSlope\n",
    "        )\n",
    "\n",
    "    t += of.dt\n",
    "    progress = int((t / sim_max_t) * 100)\n",
    "    if progress > progress0 + 1:\n",
    "        print(\"\\r\" + f\"Progress: [{progress}%]\", end=\"\")\n",
    "        progress0 = progress"
   ]
  },
  {
   "cell_type": "markdown",
   "metadata": {},
   "source": [
    "Let's take a look at the new topography and the water depth field"
   ]
  },
  {
   "cell_type": "code",
   "execution_count": null,
   "metadata": {},
   "outputs": [],
   "source": [
    "fig, axs = plt.subplots(nrows=1, ncols=3, figsize=(10, 5))\n",
    "\n",
    "plt.sca(axs[0])\n",
    "imshow_grid(rmg, \"topographic__elevation\", vmin=0, vmax=45)\n",
    "plt.title(\"Topographic elevation original[m]\")\n",
    "\n",
    "plt.sca(axs[1])\n",
    "diff_z = (\n",
    "    rmg[\"node\"][\"topographic__elevation\"]\n",
    "    - rmg[\"node\"][\"topographic__elevation_original\"]\n",
    ")\n",
    "imshow_grid(rmg, diff_z, vmin=0, vmax=4.0)\n",
    "plt.title(\"Difference in elevation [m]\")  # set a title\n",
    "\n",
    "plt.sca(axs[2])\n",
    "imshow_grid(rmg, \"surface_water__depth\", cmap=\"Blues\")\n",
    "plt.title(\"Surface water depth [m]\")\n",
    "\n",
    "plt.tight_layout()\n",
    "plt.show()"
   ]
  },
  {
   "cell_type": "markdown",
   "metadata": {},
   "source": [
    "After five days, we can observe significant changes in the riverbed. Deposition is predominantly seen in the upper part. Stable riverbed conditions for this case are achieved in approximately 160 days. To observe the most significant changes under these experimental conditions, you should set the simulation_max_time to 160*86400 seconds."
   ]
  },
  {
   "cell_type": "markdown",
   "metadata": {},
   "source": [
    "### Click here for more <a href=\"https://landlab.readthedocs.io/en/latest/user_guide/tutorials.html\">Landlab tutorials</a>"
   ]
  }
 ],
 "metadata": {
  "kernelspec": {
   "display_name": "Python 3 (ipykernel)",
   "language": "python",
   "name": "python3"
  },
  "language_info": {
   "codemirror_mode": {
    "name": "ipython",
    "version": 3
   },
   "file_extension": ".py",
   "mimetype": "text/x-python",
   "name": "python",
   "nbconvert_exporter": "python",
   "pygments_lexer": "ipython3",
   "version": "3.11.3"
  }
 },
 "nbformat": 4,
 "nbformat_minor": 1
}
