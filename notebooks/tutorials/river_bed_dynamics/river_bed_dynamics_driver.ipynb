{
 "cells": [
  {
   "cell_type": "markdown",
   "metadata": {},
   "source": [
    "<a href=\"http://landlab.github.io\"><img style=\"float: left\" src=\"../../landlab_header.png\"></a>"
   ]
  },
  {
   "cell_type": "markdown",
   "metadata": {},
   "source": [
    "# A Tutorial on Coupling the River Bed Dynamics and Overland Flow Components"
   ]
  },
  {
   "cell_type": "markdown",
   "metadata": {},
   "source": [
    "<hr>\n",
    "<small>For more Landlab tutorials, click here: <a href=\"https://landlab.readthedocs.io/en/latest/user_guide/tutorials.html\">https://landlab.readthedocs.io/en/latest/user_guide/tutorials.html</a></small>\n",
    "<hr>"
   ]
  },
  {
   "cell_type": "markdown",
   "metadata": {},
   "source": [
    "This notebook illustrates the process of running the River Bed Dynamics component, coupled with the 2D deAlmeida Overland Flow component, on an initially flat riverbed that receives an excess sediment supply. It then demonstrates how the bed slope is continuously adjusted in both time and space until a new bed elevation equilibrium is reached. For demonstration purposes, we have simulated an event that lasts one day. However, the code can be modified (by altering the commented variables) to extend the simulation until equilibrium is achieved.\n",
    "\n",
    "First, let's import the necessary libraries and modules:"
   ]
  },
  {
   "cell_type": "code",
   "execution_count": 1,
   "metadata": {},
   "outputs": [],
   "source": [
    "import copy\n",
    "\n",
    "import matplotlib.cm as cm\n",
    "import numpy as np\n",
    "from IPython.display import clear_output, display\n",
    "from matplotlib import pyplot as plt\n",
    "\n",
    "from landlab import imshow_grid\n",
    "from landlab.components import OverlandFlow, RiverBedDynamics\n",
    "from landlab.grid.mappers import map_mean_of_link_nodes_to_link\n",
    "from landlab.io import read_esri_ascii"
   ]
  },
  {
   "cell_type": "markdown",
   "metadata": {},
   "source": [
    "Next, let's define some numerical simulation parameters, time control settings, filenames for accessing the grain size distribution, the digital elevation model (DEM), and set boundary conditions."
   ]
  },
  {
   "cell_type": "code",
   "execution_count": 2,
   "metadata": {},
   "outputs": [],
   "source": [
    "# ASCII raster DEM containing the bed surface elevation\n",
    "zDEM = \"bedElevationDEM.asc\"\n",
    "\n",
    "# ASCII file containing grain size distribution\n",
    "gsd = np.loadtxt(\"bed_gsd.txt\")\n",
    "\n",
    "# Elapsed time (sec)\n",
    "t = 0\n",
    "\n",
    "# Elapsed time when getting initial conditions (sec)\n",
    "t0 = 0\n",
    "\n",
    "# Maximum time step in sec\n",
    "max_dt = 5\n",
    "\n",
    "# Maximum simulation time (sec)\n",
    "sim_max_t = 86400 + max_dt # To reach eq use im_max_t = 60 * 86400 + max_dt\n",
    "\n",
    "# Maximum simulation time when getting initial conditions (sec)\n",
    "sim_max_t_0 = 86400 + max_dt\n",
    "\n",
    "# Manning's n\n",
    "n = 0.03874\n",
    "\n",
    "# bedload rate at inlet in m3/s\n",
    "in_qb = -0.0087\n",
    "\n",
    "# Link Id in which sediment supply and discharge enters\n",
    "in_l = np.array((221, 222))\n",
    "\n",
    "# Nodes Id in Water depth is specified\n",
    "in_n = np.array((129, 130))\n",
    "\n",
    "# Node ID for fixed Nodes\n",
    "fixed_nodes_id = np.array((1, 2, 5, 6))\n",
    "\n",
    "# Node ID for nodes that are calculated as zero gradient in boundary conditions for bed elevation\n",
    "calc_node_id = np.arange(128, 136)\n",
    "\n",
    "# Nodes Id where the bed elevation will be extracted to check it's evolution and compare it to the analytical solution\n",
    "sample_node_id = np.arange(5, 126, 4)\n",
    "\n",
    "# Interval to plot elevation (sec)\n",
    "save_data_time_interval = 86400"
   ]
  },
  {
   "cell_type": "markdown",
   "metadata": {},
   "source": [
    "Now we define some parameters used to get the analytical solution"
   ]
  },
  {
   "cell_type": "code",
   "execution_count": 3,
   "metadata": {},
   "outputs": [],
   "source": [
    "# Flow discharge at each cell (across the face, in m3/s) Negative means towards left\n",
    "Q = -50\n",
    "\n",
    "# Critical shear stress for MPM equation\n",
    "tauCrStar = 0.047\n",
    "\n",
    "# Exponent in MPM equation\n",
    "qbStar_exp = 3 / 2\n",
    "\n",
    "# Coefficient in MPM equation\n",
    "qbStar_coeff = 8\n",
    "\n",
    "# Domain initial distance [m] - The DEM may be larger than this, so this indicates the study area.\n",
    "x0 = 0\n",
    "\n",
    "# Domain final distance [m] - The DEM may be larger than this, so this indicates the study area.\n",
    "xf = 1500"
   ]
  },
  {
   "cell_type": "markdown",
   "metadata": {},
   "source": [
    "Now we create fields and instantiate the OverlandFlow component. Let's examine the fields that are mandatory for the OverlandFlow component."
   ]
  },
  {
   "cell_type": "code",
   "execution_count": 4,
   "metadata": {},
   "outputs": [
    {
     "data": {
      "text/plain": [
       "('surface_water__depth', 'topographic__elevation')"
      ]
     },
     "execution_count": 4,
     "metadata": {},
     "output_type": "execute_result"
    }
   ],
   "source": [
    "OverlandFlow.input_var_names  # Gives the list of all required fields"
   ]
  },
  {
   "cell_type": "markdown",
   "metadata": {},
   "source": [
    "Therefore, we need to create the surface_water__depth and topographic__elevation fields. Additionally, let's create a copy of the topographic elevation to use for comparison at the end of the simulation."
   ]
  },
  {
   "cell_type": "code",
   "execution_count": 5,
   "metadata": {},
   "outputs": [],
   "source": [
    "# Load the topographic elevation from a DEM and creates the topographic__elevation field\n",
    "(rmg, z) = read_esri_ascii(zDEM, name=\"topographic__elevation\")\n",
    "\n",
    "# Initialize the surface water depth field - Creates the surface_water__depth\n",
    "rmg.add_zeros(\"surface_water__depth\", at=\"node\")\n",
    "\n",
    "# A copy of the original topographic__elevation - This will be used in a plot at the end so it is copied as a grid field\n",
    "rmg[\"node\"][\"topographic__elevation_original\"] = copy.deepcopy(\n",
    "    rmg[\"node\"][\"topographic__elevation\"]\n",
    ")"
   ]
  },
  {
   "cell_type": "markdown",
   "metadata": {},
   "source": [
    "It would be beneficial to visualize the geometry at this stage"
   ]
  },
  {
   "cell_type": "code",
   "execution_count": 6,
   "metadata": {},
   "outputs": [
    {
     "data": {
      "image/png": "[encoded data removed]",
      "text/plain": [
       "<Figure size 640x480 with 2 Axes>"
      ]
     },
     "metadata": {},
     "output_type": "display_data"
    }
   ],
   "source": [
    "imshow_grid(rmg, \"topographic__elevation\", vmin=0, vmax=45)"
   ]
  },
  {
   "cell_type": "markdown",
   "metadata": {},
   "source": [
    "Now, let's instantiate the OverlandFlow component. Instead of using a discharge we will use a rainfall intensity that results in a flow discharge of 1 m^3/s"
   ]
  },
  {
   "cell_type": "code",
   "execution_count": 7,
   "metadata": {},
   "outputs": [],
   "source": [
    "of = OverlandFlow(\n",
    "    rmg,\n",
    "    h_init=0.001,\n",
    "    mannings_n=n,\n",
    "    rainfall_intensity=0.0,\n",
    ")\n",
    "of._rainfall_intensity = np.zeros_like(z, dtype=float)\n",
    "of._rainfall_intensity[in_n] = 0.02  # Boundary conditions of discharge and flow depth"
   ]
  },
  {
   "cell_type": "markdown",
   "metadata": {},
   "source": [
    "Now it is time to instantiate the RiverBedDynamics component, to check the required fields we do:"
   ]
  },
  {
   "cell_type": "code",
   "execution_count": 8,
   "metadata": {},
   "outputs": [
    {
     "data": {
      "text/plain": [
       "('surface_water__depth', 'surface_water__velocity', 'topographic__elevation')"
      ]
     },
     "execution_count": 8,
     "metadata": {},
     "output_type": "execute_result"
    }
   ],
   "source": [
    "RiverBedDynamics.input_var_names"
   ]
  },
  {
   "cell_type": "markdown",
   "metadata": {},
   "source": [
    "We need to create or make sure that these fields exist: \n",
    "'surface_water__depth'\n",
    "'surface_water__velocity'\n",
    "'topographic__elevation'\n",
    "\n",
    "Notice that 'topographic__elevation' was already created. In this case, 'surface_water__depth' appears again, but we should verify if it defined in links or nodes. Also, 'surface_water__velocity' has to be created. We can use RiverBedDynamics.var_mapping to check where these variables are mapped."
   ]
  },
  {
   "cell_type": "code",
   "execution_count": 9,
   "metadata": {},
   "outputs": [
    {
     "data": {
      "text/plain": [
       "(('surface_water__depth', 'link'),\n",
       " ('surface_water__velocity', 'link'),\n",
       " ('topographic__elevation', 'node'))"
      ]
     },
     "execution_count": 9,
     "metadata": {},
     "output_type": "execute_result"
    }
   ],
   "source": [
    "RiverBedDynamics.var_mapping"
   ]
  },
  {
   "cell_type": "markdown",
   "metadata": {},
   "source": [
    "We have 'surface_water__depth' and 'topographic__elevation' at nodes. Therefore, we will map 'surface_water__depth' to links and create 'surface_water__velocity'"
   ]
  },
  {
   "cell_type": "code",
   "execution_count": 10,
   "metadata": {},
   "outputs": [],
   "source": [
    "rmg.add_zeros(\"surface_water__velocity\", at=\"node\")\n",
    "rmg.add_zeros(\"surface_water__velocity\", at=\"link\")\n",
    "rmg[\"link\"][\"surface_water__depth\"] = map_mean_of_link_nodes_to_link(\n",
    "    rmg, \"surface_water__depth\"\n",
    ")"
   ]
  },
  {
   "cell_type": "markdown",
   "metadata": {},
   "source": [
    "We set boundaries as closed boundaries, the outlet is set to an open boundary"
   ]
  },
  {
   "cell_type": "code",
   "execution_count": 11,
   "metadata": {},
   "outputs": [],
   "source": [
    "rmg.set_watershed_boundary_condition_outlet_id([1, 2], z, 45.0)"
   ]
  },
  {
   "cell_type": "markdown",
   "metadata": {},
   "source": [
    "Before instantiating RiverBedDynamics, we need to specify for this case the sediment transport and bed elevation boundary conditions. These are optional fields, that is why they are not listed as mandatory. We will use the bed_surface__elevation_fixed_node and sediment_transport__sediment_supply_imposed_link optional fields. First we create these fields."
   ]
  },
  {
   "cell_type": "code",
   "execution_count": 12,
   "metadata": {},
   "outputs": [],
   "source": [
    "# Creates optional fields that will be used in the simulation\n",
    "# fixed_nodes defines as 1 if a node is fixed or 0 if it can varies in elevation\n",
    "fixed_nodes = np.zeros_like(z)\n",
    "fixed_nodes[fixed_nodes_id] = 1  # Assigns 1 to fixed nodes, all the others are zero.\n",
    "\n",
    "# sediment_transport__sediment_supply_imposed\n",
    "qb = np.full(rmg.number_of_links, 0.0)\n",
    "qb[in_l] = in_qb  # Previously defined - # bedload rate at inlet in m3/s"
   ]
  },
  {
   "cell_type": "markdown",
   "metadata": {},
   "source": [
    "We will pass fixed_nodes and qb during instantiation."
   ]
  },
  {
   "cell_type": "code",
   "execution_count": 13,
   "metadata": {},
   "outputs": [],
   "source": [
    "rbd = RiverBedDynamics(\n",
    "    rmg,\n",
    "    gsd=gsd,\n",
    "    outlet_boundary_condition=\"fixedValue\",\n",
    "    bed_surf__elev_fix_node=fixed_nodes,\n",
    "    sed_transp__bedload_rate_fix_link=qb,\n",
    ")"
   ]
  },
  {
   "cell_type": "markdown",
   "metadata": {},
   "source": [
    "A little explanation of what we did for the watershed boundary condition. Our DEM represents a long watershed with a given slope in the central region. The outlet is in the south boundary, which according to landlab grid convention is defined as nodes 1 and 2 (that is why we have ...outlet_id([1,2]..., then z contains the bed surface elevation created when we did:\n",
    "(rmg, z) = read_esri_ascii(bedElevation, name='topographic__elevation'), and 45 tells the component that if that value exist in the DEM it is an invalid value. Most commonly it is used as -9999."
   ]
  },
  {
   "cell_type": "markdown",
   "metadata": {},
   "source": [
    "Here we define some ghost cells. In this tutorial we are analyzing a 1500 m long reach, but the DEM contains data up to 1650 m. Outside 1500 m, where is the point in which the sediment supply is defined, the bed elevation is assumed to vary according to a zero gradient condition."
   ]
  },
  {
   "cell_type": "code",
   "execution_count": 14,
   "metadata": {},
   "outputs": [],
   "source": [
    "n_col = rmg.number_of_node_columns\n",
    "n_row = rmg.number_of_node_rows\n",
    "\n",
    "n_row_calc_n = int(calc_node_id.shape[0] / n_col)\n",
    "calc_node_id = np.reshape(calc_node_id, (n_row_calc_n, n_col))"
   ]
  },
  {
   "cell_type": "markdown",
   "metadata": {},
   "source": [
    "Before starting let's get the analytical solution"
   ]
  },
  {
   "cell_type": "code",
   "execution_count": 15,
   "metadata": {},
   "outputs": [],
   "source": [
    "# Initial bed elevation in the study section\n",
    "z0 = np.reshape(z, (n_row, n_col))[1:-2, 1]\n",
    "z0 = copy.deepcopy(z0)\n",
    "\n",
    "# D50 is constant everywhere in this case. Was converted to m\n",
    "D50 = rbd._bed_surf__median_size_node[0] / 1000\n",
    "\n",
    "# MPM bedload per unit width - Dimensionless\n",
    "qbStar = np.abs(in_qb) / (np.sqrt(rbd._R * rbd._g * D50) * D50)\n",
    "\n",
    "k1 = (np.abs(Q) * n / rmg.dx) ** (3 / 5)\n",
    "k2 = k1 / (rbd._R * D50)\n",
    "S = ((1 / k2) * ((qbStar / qbStar_coeff) ** (1 / qbStar_exp) + tauCrStar)) ** (10 / 7)\n",
    "x = np.linspace(x0, xf, z0.shape[0])\n",
    "zAnalytic = S * x"
   ]
  },
  {
   "cell_type": "markdown",
   "metadata": {},
   "source": [
    "Let's run Overland flow for one day, such that when we use RiverBedDynamics water is already flowing across the landscape"
   ]
  },
  {
   "cell_type": "code",
   "execution_count": 16,
   "metadata": {},
   "outputs": [
    {
     "name": "stdout",
     "output_type": "stream",
     "text": [
      "Getting initial conditions - Progress: [100%]"
     ]
    }
   ],
   "source": [
    "progress0 = 0\n",
    "while t0 < sim_max_t_0:\n",
    "    of.overland_flow(dt=max_dt)  # Runs overland flow for one time step\n",
    "\n",
    "    t0 += of.dt\n",
    "    progress = int((t0 / sim_max_t_0) * 100)\n",
    "    if progress > progress0 + 1:\n",
    "        print(\"\\r\" + f\"Getting initial conditions - Progress: [{progress}%]\", end=\"\")\n",
    "        progress0 = progress\n",
    "\n",
    "# Velocity at time zero\n",
    "rmg[\"link\"][\"surface_water__velocity\"] = (\n",
    "    rmg[\"link\"][\"surface_water__discharge\"] / rmg[\"link\"][\"surface_water__depth\"]\n",
    ")"
   ]
  },
  {
   "cell_type": "markdown",
   "metadata": {},
   "source": [
    "Let's take a look at the topographic conditions and water depth in what will now be time zero."
   ]
  },
  {
   "cell_type": "code",
   "execution_count": 17,
   "metadata": {},
   "outputs": [
    {
     "data": {
      "image/png": "[encoded data removed]",
      "text/plain": [
       "<Figure size 1000x500 with 4 Axes>"
      ]
     },
     "metadata": {},
     "output_type": "display_data"
    }
   ],
   "source": [
    "fig, axs = plt.subplots(nrows=1, ncols=2, figsize=(10, 5))\n",
    "\n",
    "plt.sca(axs[0])\n",
    "imshow_grid(rmg, \"topographic__elevation\", vmin=0, vmax=45)\n",
    "plt.title(\"Topographic elevation [m]\")\n",
    "\n",
    "plt.sca(axs[1])\n",
    "imshow_grid(rmg, \"surface_water__depth\", cmap=\"Blues\")\n",
    "plt.title(\"Surface water depth [m]\")\n",
    "\n",
    "plt.tight_layout()\n",
    "plt.show()"
   ]
  },
  {
   "cell_type": "markdown",
   "metadata": {},
   "source": [
    "Before executing the main loop, let's define a function that will help us visualize the evolution of the bed elevation."
   ]
  },
  {
   "cell_type": "code",
   "execution_count": 18,
   "metadata": {},
   "outputs": [],
   "source": [
    "def plotCurrentBedState(z_evolution, t):\n",
    "    zPrevious = z_evolution[1:-1, :]\n",
    "    zCurrent = z_evolution[-1, :]\n",
    "\n",
    "    # Clear the previous figure\n",
    "    clear_output(wait=True)\n",
    "\n",
    "    if zPrevious.shape[0] > 0:\n",
    "        # Create a figure and axis\n",
    "        fig, ax = plt.subplots(figsize=(10, 6))\n",
    "        ax.plot(x, z0, color=\"black\", label=\"Initial Condition\")\n",
    "\n",
    "        # Plot zPrevious\n",
    "        num_rows = zPrevious.shape[0]\n",
    "        colors = cm.Greys(np.linspace(0.3, 0.7, num_rows))\n",
    "        for row in zPrevious:\n",
    "            ax.plot(\n",
    "                x, row, color=colors[num_rows - 1]\n",
    "            )  # plotting in grayscale without labels\n",
    "            num_rows -= 1  # reduce the grayscale for next iteration\n",
    "\n",
    "        # Plot zCurrent\n",
    "        current_time = \"Current time \" + str(t) + \" sec\"\n",
    "        ax.plot(x, zCurrent, color=\"tab:orange\", label=current_time, linestyle=\"--\")\n",
    "\n",
    "        # Plot zAnalytic\n",
    "        ax.plot(x, zAnalytic, color=\"blue\", label=\"Analytical Solution\")\n",
    "\n",
    "        # Display legend\n",
    "        ax.legend()\n",
    "        ax.set_title(\"Elevation evolution\")\n",
    "        ax.set_xlabel(\"Streamwise distance [m]\")\n",
    "        ax.set_ylabel(\"Elevation [m]\")\n",
    "        ax.set_xlim(0, 1500)\n",
    "        ax.set_ylim(0, 40)\n",
    "        plt.tight_layout()\n",
    "\n",
    "        # Display the current figure\n",
    "        display(fig)\n",
    "\n",
    "        # Close the figure to avoid unnecessary memory usage\n",
    "        plt.close(fig)"
   ]
  },
  {
   "cell_type": "markdown",
   "metadata": {},
   "source": [
    "Now, let's execute the loop that drives the simulation for both components:"
   ]
  },
  {
   "cell_type": "code",
   "execution_count": 19,
   "metadata": {},
   "outputs": [
    {
     "name": "stdout",
     "output_type": "stream",
     "text": [
      "\r",
      "Progress: [100%]"
     ]
    }
   ],
   "source": [
    "# The simulation may take a long time to run,\n",
    "# so we added a progress report\n",
    "save_data_time_interval_original = copy.deepcopy(\n",
    "    save_data_time_interval\n",
    ")  # A copy of save_data_time_interval\n",
    "z_evolution = rmg[\"node\"][\"topographic__elevation\"][sample_node_id]\n",
    "progress0 = 0\n",
    "while t < sim_max_t:\n",
    "    # Velocity at previous time\n",
    "    rbd._surface_water__velocity_prev_time_link = (\n",
    "        rmg[\"link\"][\"surface_water__discharge\"] / rmg[\"link\"][\"surface_water__depth\"]\n",
    "    )\n",
    "\n",
    "    # Runs overland flow for one time step\n",
    "    of.overland_flow(dt=max_dt)\n",
    "\n",
    "    # Velocity at current time\n",
    "    rmg[\"link\"][\"surface_water__velocity\"] = (\n",
    "        rmg[\"link\"][\"surface_water__discharge\"] / rmg[\"link\"][\"surface_water__depth\"]\n",
    "    )\n",
    "\n",
    "    # Defines the time step used in RiverBedDynamics\n",
    "    rbd._grid._dt = of.dt\n",
    "\n",
    "    # Runs riverBedDynamics for one time step\n",
    "    rbd.run_one_step()\n",
    "\n",
    "    # Bed boundary condition\n",
    "    for i in calc_node_id:\n",
    "        rmg[\"node\"][\"topographic__elevation\"][i] = rmg[\"node\"][\n",
    "            \"topographic__elevation\"\n",
    "        ][i - n_col]\n",
    "\n",
    "    ## Stores results\n",
    "    save_data_time_interval = save_data_time_interval - of.dt\n",
    "    if save_data_time_interval <= 0:\n",
    "        z_evolution = np.vstack(\n",
    "            [z_evolution, rmg[\"node\"][\"topographic__elevation\"][sample_node_id]]\n",
    "        )\n",
    "        plotCurrentBedState(z_evolution, t)\n",
    "        save_data_time_interval = save_data_time_interval_original\n",
    "\n",
    "    t += of.dt\n",
    "    progress = int((t / sim_max_t) * 100)\n",
    "    if progress > progress0 + 1:\n",
    "        print(\"\\r\" + f\"Progress: [{progress}%]\", end=\"\")\n",
    "        progress0 = progress"
   ]
  },
  {
   "cell_type": "markdown",
   "metadata": {},
   "source": [
    "Let's take a look at the new topography and the water depth field"
   ]
  },
  {
   "cell_type": "code",
   "execution_count": 20,
   "metadata": {},
   "outputs": [
    {
     "data": {
      "image/png": "[encoded data removed]",
      "text/plain": [
       "<Figure size 1000x500 with 8 Axes>"
      ]
     },
     "metadata": {},
     "output_type": "display_data"
    }
   ],
   "source": [
    "z = rmg[\"node\"][\"topographic__elevation\"]\n",
    "z0 = rmg[\"node\"][\"topographic__elevation_original\"]\n",
    "fig, axs = plt.subplots(nrows=1, ncols=4, figsize=(10, 5))\n",
    "\n",
    "plt.sca(axs[0])\n",
    "imshow_grid(rmg, z0, vmin=0, vmax=45, color_for_closed=\"None\")\n",
    "plt.title(\"Elev. [m] at t = 0 [d]\")\n",
    "\n",
    "plt.sca(axs[1])\n",
    "imshow_grid(rmg, z, vmin=0, vmax=45, color_for_closed=\"None\")\n",
    "plt.title(\"Elev. [m] at t = 60 [d]\")\n",
    "\n",
    "plt.sca(axs[2])\n",
    "diff_z = z - z0\n",
    "imshow_grid(rmg, diff_z, vmin=0, vmax=20.0, color_for_closed=\"None\")\n",
    "plt.title(\"Diff. in elev. [m]\")  # set a title\n",
    "\n",
    "plt.sca(axs[3])\n",
    "imshow_grid(rmg, \"surface_water__depth\", cmap=\"Blues\", color_for_closed=\"None\")\n",
    "plt.title(\"Water depth [m]\")\n",
    "\n",
    "plt.tight_layout()\n",
    "plt.show()"
   ]
  },
  {
   "cell_type": "markdown",
   "metadata": {},
   "source": [
    "After 60 days, we can observe significant changes in the riverbed."
   ]
  },
  {
   "cell_type": "markdown",
   "metadata": {},
   "source": [
    "### Click here for more <a href=\"https://landlab.readthedocs.io/en/latest/user_guide/tutorials.html\">Landlab tutorials</a>"
   ]
  }
 ],
 "metadata": {
  "kernelspec": {
   "display_name": "Python 3 (ipykernel)",
   "language": "python",
   "name": "python3"
  },
  "language_info": {
   "codemirror_mode": {
    "name": "ipython",
    "version": 3
   },
   "file_extension": ".py",
   "mimetype": "text/x-python",
   "name": "python",
   "nbconvert_exporter": "python",
   "pygments_lexer": "ipython3",
   "version": "3.11.3"
  }
 },
 "nbformat": 4,
 "nbformat_minor": 1
}
