{
 "cells": [
  {
   "attachments": {},
   "cell_type": "markdown",
   "metadata": {},
   "source": [
    "<a href=\"http://landlab.github.io\"><img style=\"float: left\" src=\"../../landlab_header.png\"></a>"
   ]
  },
  {
   "attachments": {},
   "cell_type": "markdown",
   "metadata": {},
   "source": [
    "# A tutorial for using River Bed Dynamics and Overland Flow Components in a coupled way"
   ]
  },
  {
   "attachments": {},
   "cell_type": "markdown",
   "metadata": {},
   "source": [
    "<hr>\n",
    "<small>For more Landlab tutorials, click here: <a href=\"https://landlab.readthedocs.io/en/latest/user_guide/tutorials.html\">https://landlab.readthedocs.io/en/latest/user_guide/tutorials.html</a></small>\n",
    "<hr>"
   ]
  },
  {
   "attachments": {},
   "cell_type": "markdown",
   "metadata": {},
   "source": [
    "This notebook illustrates the process of running the river bed dynamics component coupled to the 2D deAlmeida overland flow component in an initially flat bed river that receives excess sediment supply. Then, it shows how the bed slope is adjusted continously in time and space until it reaches a new bed elevation equilibrium.\n",
    "\n",
    "First, import what we'll need:"
   ]
  },
  {
   "cell_type": "code",
   "execution_count": null,
   "metadata": {},
   "outputs": [],
   "source": [
    "import numpy as np\n",
    "from matplotlib import pyplot as plt\n",
    "\n",
    "from landlab import imshow_grid\n",
    "from landlab.components import OverlandFlow, RiverBedDynamics\n",
    "from landlab.grid.mappers import map_mean_of_link_nodes_to_link\n",
    "from landlab.io import read_esri_ascii"
   ]
  },
  {
   "attachments": {},
   "cell_type": "markdown",
   "metadata": {},
   "source": [
    "Now, we define some numerical simulation conditions, time control settings, filenames to access the grain size distribution and the digital elevation model (DEM), and boundary conditions"
   ]
  },
  {
   "cell_type": "code",
   "execution_count": null,
   "metadata": {},
   "outputs": [],
   "source": [
    "bedElevation = (\n",
    "    \"bedElevationDEM.asc\"  # ASCII raster DEM containing the bed surface elevation\n",
    ")\n",
    "gsd = np.loadtxt(\n",
    "    \"bed_gsd.txt\"\n",
    ")  # Check inside the txt file for more information on the file format\n",
    "t = 0  # Elapsed time (sec)\n",
    "max_dt = 5  # time step in sec\n",
    "simulation_max_time = (\n",
    "    5 * 86400\n",
    ")  # Maximum simulation time (sec) - To compare to analytical solution set as 240*86400\n",
    "\n",
    "n = 0.03874  # Manning's n\n",
    "upstream_sediment_supply = -0.0087  # bedload rate at inlet in m3/s\n",
    "link_inlet = np.array(\n",
    "    (221, 222)\n",
    ")  # Link Id in which sediment supply and discharge enters\n",
    "node_inlet = np.array((129, 130))  # Nodes Id in Water depth is specified\n",
    "fixed_nodes_Id = np.array((1, 2, 5, 6))  # Node ID for fixed Nodes"
   ]
  },
  {
   "attachments": {},
   "cell_type": "markdown",
   "metadata": {},
   "source": [
    "Now we create fields and instantiate the OverlandFlow component"
   ]
  },
  {
   "cell_type": "code",
   "execution_count": null,
   "metadata": {},
   "outputs": [],
   "source": [
    "OverlandFlow.input_var_names  # Gives the list of all required fields"
   ]
  },
  {
   "attachments": {},
   "cell_type": "markdown",
   "metadata": {},
   "source": [
    "Therefore, we need to create the surface_water__depth and topographic__elevation fields. Also, we will create a copy of the topographic elevation to use it as comparison point at the end of the run."
   ]
  },
  {
   "cell_type": "code",
   "execution_count": null,
   "metadata": {},
   "outputs": [],
   "source": [
    "(rmg, z) = read_esri_ascii(\n",
    "    bedElevation, name=\"topographic__elevation\"\n",
    ")  # Creates the topographic__elevation field\n",
    "rmg.add_zeros(\n",
    "    \"surface_water__depth\", at=\"node\"\n",
    ")  # Creates the surface_water__depth and fills it with zeros\n",
    "rmg[\"node\"][\"topographic__elevation_original\"] = rmg[\"node\"][\n",
    "    \"topographic__elevation\"\n",
    "]  # A copy of the original topographic__elevation"
   ]
  },
  {
   "attachments": {},
   "cell_type": "markdown",
   "metadata": {},
   "source": [
    "It would be benefitial to take a look at the geometry at this point"
   ]
  },
  {
   "cell_type": "code",
   "execution_count": null,
   "metadata": {},
   "outputs": [],
   "source": [
    "imshow_grid(rmg, \"topographic__elevation\", vmin=0, vmax=45)"
   ]
  },
  {
   "attachments": {},
   "cell_type": "markdown",
   "metadata": {},
   "source": [
    "Now we instantiate the Overland flow component"
   ]
  },
  {
   "cell_type": "code",
   "execution_count": null,
   "metadata": {},
   "outputs": [],
   "source": [
    "of = OverlandFlow(\n",
    "    rmg, dt_max=max_dt, h_init=0.001, mannings_n=n, use_user_defined_time_step=True\n",
    ")"
   ]
  },
  {
   "attachments": {},
   "cell_type": "markdown",
   "metadata": {},
   "source": [
    "And now we create fields and instantiate the river bed dynamics component, to check the required we do:"
   ]
  },
  {
   "cell_type": "code",
   "execution_count": null,
   "metadata": {},
   "outputs": [],
   "source": [
    "RiverBedDynamics.input_var_names"
   ]
  },
  {
   "attachments": {},
   "cell_type": "markdown",
   "metadata": {},
   "source": [
    "We have to create all these fields. Notice that 'topographic__elevation' was already created. the field 'surface_water__depth' was created but it was defined on nodes and here we need it at links."
   ]
  },
  {
   "cell_type": "code",
   "execution_count": null,
   "metadata": {},
   "outputs": [],
   "source": [
    "rmg[\"node\"][\"bed_surface__grain_size_distribution_location\"] = np.zeros_like(\n",
    "    z\n",
    ")  # There is only one site\n",
    "rmg.add_zeros(\"surface_water__velocity\", at=\"node\")\n",
    "rmg.add_zeros(\"surface_water__velocity_previous_time\", at=\"node\")\n",
    "rmg[\"link\"][\"surface_water__depth\"] = map_mean_of_link_nodes_to_link(\n",
    "    rmg, \"surface_water__depth\"\n",
    ")\n",
    "rmg[\"link\"][\"surface_water__velocity\"] = map_mean_of_link_nodes_to_link(\n",
    "    rmg, \"surface_water__velocity\"\n",
    ")\n",
    "rmg[\"link\"][\"surface_water__velocity_previous_time\"] = map_mean_of_link_nodes_to_link(\n",
    "    rmg, \"surface_water__velocity_previous_time\"\n",
    ")"
   ]
  },
  {
   "attachments": {},
   "cell_type": "markdown",
   "metadata": {},
   "source": [
    "Instantiate the river bed dynamics component"
   ]
  },
  {
   "cell_type": "code",
   "execution_count": null,
   "metadata": {},
   "outputs": [],
   "source": [
    "rbd = RiverBedDynamics(\n",
    "    rmg,\n",
    "    gsd=gsd,\n",
    "    variable_critical_shear_stress=True,\n",
    "    outlet_boundary_condition=\"fixedValue\",\n",
    ")"
   ]
  },
  {
   "attachments": {},
   "cell_type": "markdown",
   "metadata": {},
   "source": [
    "We set boundaries as closed boundaries, the outlet is set to an open boundary"
   ]
  },
  {
   "cell_type": "code",
   "execution_count": null,
   "metadata": {},
   "outputs": [],
   "source": [
    "rmg.set_watershed_boundary_condition_outlet_id([1, 2], z, 45.0)"
   ]
  },
  {
   "attachments": {},
   "cell_type": "markdown",
   "metadata": {},
   "source": [
    "A little explanation of what we did for the watershed boundary condition. Our DEM represents a long watershed with a given slope in the central region. The outlet is in the south boundary, which according to landlab grid convention is defined as nodes 1 and 2 (that is why we have ...outlet_id([1,2]..., then z contains the bed surface elevation created when we did:\n",
    "(rmg, z) = read_esri_ascii(bedElevation, name='topographic__elevation'), and 45 tells the component that if that value exist in the DEM it is an invalid value. Most commonly it is used as -9999.\n",
    "\n",
    "Now we defined some properties of fixed nodes (nodes with fixed bed elevation), define the flow discharge and depth at the inlet node, and the sediment supply at the node that we previously defined.\n"
   ]
  },
  {
   "cell_type": "code",
   "execution_count": null,
   "metadata": {},
   "outputs": [],
   "source": [
    "fixed_nodes = np.zeros_like(\n",
    "    z\n",
    ")  # fixed_nodes defines as 1 if a node is fixed or 0 if it can vary in elevation\n",
    "fixed_nodes[fixed_nodes_Id] = 1\n",
    "rmg[\"node\"][\n",
    "    \"bed_surface__elevation_fixed\"\n",
    "] = fixed_nodes  # Assigns fixed locations to landlab grid\n",
    "\n",
    "rmg[\"link\"][\"surface_water__discharge\"][link_inlet] = -1  # Flow discharge in m3/s/m\n",
    "rmg[\"node\"][\"surface_water__depth\"][node_inlet] = 0.45  # Flow depth in nodes in m\n",
    "rmg[\"link\"][\"surface_water__depth\"][link_inlet] = 0.45  # Flow depth in links in m\n",
    "rmg[\"link\"][\"sediment_transport__sediment_supply_imposed\"][\n",
    "    link_inlet\n",
    "] = upstream_sediment_supply"
   ]
  },
  {
   "attachments": {},
   "cell_type": "markdown",
   "metadata": {},
   "source": [
    "Here we define some ghost cells. In this tutorial we are analyzing a 1500 m long reach, but the DEM contains data up to 1650 m. Outside 1500 m, where is the point in which the sediment supply is defined, the bed elevation is assumed to vary according to a gradient preserving condition, a boundary condition that allows the water to flow without problems. We will called these nodes calculated_nodes_Id"
   ]
  },
  {
   "cell_type": "code",
   "execution_count": null,
   "metadata": {},
   "outputs": [],
   "source": [
    "calculated_nodes_Id = np.arange(128, 136)\n",
    "number_columns = rmg.number_of_node_columns\n",
    "number_rows_calculated_nodes = int(calculated_nodes_Id.shape[0] / number_columns)\n",
    "calculated_nodes_Id = np.reshape(\n",
    "    calculated_nodes_Id, (number_rows_calculated_nodes, number_columns)\n",
    ")"
   ]
  },
  {
   "attachments": {},
   "cell_type": "markdown",
   "metadata": {},
   "source": [
    "Now we're going to run the loop that drives the components:"
   ]
  },
  {
   "cell_type": "code",
   "execution_count": null,
   "metadata": {},
   "outputs": [],
   "source": [
    "progress0 = (\n",
    "    0  # The simulation may take a long time to run, so we added a progress report\n",
    ")\n",
    "while t < simulation_max_time:\n",
    "    # Boundary conditions of discharge and flow depth\n",
    "    rmg[\"link\"][\"surface_water__discharge\"][link_inlet] = -1  # Flow discharge in m3/s/m\n",
    "    rmg[\"node\"][\"surface_water__depth\"][node_inlet] = 0.45  # Flow depth in nodes in m\n",
    "    rmg[\"link\"][\"surface_water__depth\"][link_inlet] = 0.45  # Flow depth in links in m\n",
    "\n",
    "    # Velocity at previous time\n",
    "    rmg[\"link\"][\"surface_water__velocity_previous_time\"] = of._q / of._h_links\n",
    "\n",
    "    of.overland_flow()  # Runs overland flow for one time step\n",
    "\n",
    "    # Velocity at current time\n",
    "    rmg[\"link\"][\"surface_water__velocity\"] = of._q / of._h_links\n",
    "\n",
    "    rbd.run_one_step()  # Runs riverBedDynamics for one time step\n",
    "\n",
    "    # Gradient preserving at upstream ghost cells\n",
    "    dsNodesId = np.array(calculated_nodes_Id[0, 1] - np.arange(1, 3) * number_columns)\n",
    "    z = rmg[\"node\"][\"topographic__elevation\"]  # Updated topographic elevation\n",
    "    bedSlope = (z[dsNodesId[0]] - z[dsNodesId[1]]) / rmg.dx\n",
    "\n",
    "    for i in np.arange(0, calculated_nodes_Id.shape[0]):\n",
    "        rmg[\"node\"][\"topographic__elevation\"][\n",
    "            calculated_nodes_Id[i, 1 : number_columns - 1]\n",
    "        ] = (\n",
    "            z[calculated_nodes_Id[i, 1 : number_columns - 1] - 2 * number_columns]\n",
    "            + 2 * rmg.dx * bedSlope\n",
    "        )\n",
    "\n",
    "    t += of.dt\n",
    "    progress = int((t / simulation_max_time) * 100)\n",
    "    if progress > progress0 + 1:\n",
    "        print(\"\\r\" + f\"Progress: [{progress}%]\", end=\"\")\n",
    "        progress0 = progress"
   ]
  },
  {
   "attachments": {},
   "cell_type": "markdown",
   "metadata": {},
   "source": [
    "Let's take a look at the new topography and the water depth field"
   ]
  },
  {
   "cell_type": "code",
   "execution_count": null,
   "metadata": {},
   "outputs": [],
   "source": [
    "fig, axs = plt.subplots(nrows=1, ncols=3, figsize=(10, 5))\n",
    "\n",
    "plt.sca(axs[0])\n",
    "imshow_grid(rmg, \"topographic__elevation_original\", vmin=0, vmax=45)\n",
    "plt.title(\"Topographic elevation original[m]\")\n",
    "\n",
    "plt.sca(axs[1])\n",
    "imshow_grid(rmg, \"topographic__elevation\", vmin=0, vmax=45)\n",
    "plt.title(\"Topographic elevation [m]\")  # set a title\n",
    "\n",
    "plt.sca(axs[2])\n",
    "imshow_grid(rmg, \"surface_water__depth\", cmap=\"Blues\")\n",
    "plt.title(\"Surface water depth [m]\")\n",
    "\n",
    "plt.tight_layout()\n",
    "plt.show()"
   ]
  },
  {
   "attachments": {},
   "cell_type": "markdown",
   "metadata": {},
   "source": [
    "After five days, noticeable changes occur in the bed, with deposition observed predominantly in the upper part. Stable bed conditions are typically achieved after roughly 160 days. Therefore, if the goal is to observe the maximum possible change under the set experimental conditions, you should set: simulation_max_time = 16*86400"
   ]
  },
  {
   "attachments": {},
   "cell_type": "markdown",
   "metadata": {},
   "source": [
    "### Click here for more <a href=\"https://landlab.readthedocs.io/en/latest/user_guide/tutorials.html\">Landlab tutorials</a>"
   ]
  }
 ],
 "metadata": {
  "kernelspec": {
   "display_name": "Python 3 (ipykernel)",
   "language": "python",
   "name": "python3"
  },
  "language_info": {
   "codemirror_mode": {
    "name": "ipython",
    "version": 3
   },
   "file_extension": ".py",
   "mimetype": "text/x-python",
   "name": "python",
   "nbconvert_exporter": "python",
   "pygments_lexer": "ipython3",
   "version": "3.11.3"
  }
 },
 "nbformat": 4,
 "nbformat_minor": 1
}
